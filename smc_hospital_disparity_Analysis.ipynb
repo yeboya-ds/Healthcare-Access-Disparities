{
 "cells": [
  {
   "cell_type": "code",
   "execution_count": 1,
   "metadata": {},
   "outputs": [],
   "source": [
    "import requests"
   ]
  },
  {
   "cell_type": "code",
   "execution_count": 2,
   "metadata": {},
   "outputs": [],
   "source": [
    "# Define the URL and output file name\n",
    "url = \"https://www2.census.gov/geo/docs/reference/cenpop2020/blkgrp/CenPop2020_Mean_BG06.txt\"\n",
    "output_file = \"CenPop2020_Mean_BG06.txt\""
   ]
  },
  {
   "cell_type": "code",
   "execution_count": 3,
   "metadata": {},
   "outputs": [],
   "source": [
    "# Send a request to download the file\n",
    "response = requests.get(url)"
   ]
  },
  {
   "cell_type": "code",
   "execution_count": 4,
   "metadata": {},
   "outputs": [
    {
     "name": "stdout",
     "output_type": "stream",
     "text": [
      "File saved as CenPop2020_Mean_BG06.txt\n"
     ]
    }
   ],
   "source": [
    "# Check if the request was successful (status code 200)\n",
    "if response.status_code == 200:\n",
    "    with open(output_file, \"wb\") as file:\n",
    "        file.write(response.content)\n",
    "    print(f\"File saved as {output_file}\")\n",
    "else:\n",
    "    print(f\"Failed to download file. Status code: {response.status_code}\")"
   ]
  },
  {
   "cell_type": "code",
   "execution_count": 5,
   "metadata": {},
   "outputs": [],
   "source": [
    "import pandas as pd"
   ]
  },
  {
   "cell_type": "code",
   "execution_count": 10,
   "metadata": {},
   "outputs": [
    {
     "name": "stdout",
     "output_type": "stream",
     "text": [
      "Converted CenPop2020_Mean_BG06.txt to CenPop2020_Mean_BG06.csv successfully!\n"
     ]
    }
   ],
   "source": [
    "import pandas as pd\n",
    "\n",
    "# Define input and output file paths\n",
    "input_file = \"CenPop2020_Mean_BG06.txt\"  \n",
    "output_file = \"CenPop2020_Mean_BG06.csv\"\n",
    "\n",
    "# Load the text file, using the first row as the header\n",
    "df = pd.read_csv(input_file, sep=\",\", header=0, encoding=\"utf-8\")\n",
    "\n",
    "# Save as CSV\n",
    "df.to_csv(output_file, index=False)\n",
    "\n",
    "print(f\"Converted {input_file} to {output_file} successfully!\")"
   ]
  },
  {
   "cell_type": "code",
   "execution_count": 20,
   "metadata": {},
   "outputs": [
    {
     "name": "stdout",
     "output_type": "stream",
     "text": [
      "int64\n"
     ]
    }
   ],
   "source": [
    "df.columns\n",
    "df.describe()\n",
    "# Check the data type of the COUNTYFP column\n",
    "print(df['COUNTYFP'].dtype)"
   ]
  },
  {
   "cell_type": "code",
   "execution_count": 22,
   "metadata": {},
   "outputs": [
    {
     "data": {
      "text/html": [
       "<div>\n",
       "<style scoped>\n",
       "    .dataframe tbody tr th:only-of-type {\n",
       "        vertical-align: middle;\n",
       "    }\n",
       "\n",
       "    .dataframe tbody tr th {\n",
       "        vertical-align: top;\n",
       "    }\n",
       "\n",
       "    .dataframe thead th {\n",
       "        text-align: right;\n",
       "    }\n",
       "</style>\n",
       "<table border=\"1\" class=\"dataframe\">\n",
       "  <thead>\n",
       "    <tr style=\"text-align: right;\">\n",
       "      <th></th>\n",
       "      <th>STATEFP</th>\n",
       "      <th>COUNTYFP</th>\n",
       "      <th>TRACTCE</th>\n",
       "      <th>BLKGRPCE</th>\n",
       "      <th>POPULATION</th>\n",
       "      <th>LATITUDE</th>\n",
       "      <th>LONGITUDE</th>\n",
       "    </tr>\n",
       "  </thead>\n",
       "  <tbody>\n",
       "    <tr>\n",
       "      <th>19723</th>\n",
       "      <td>6</td>\n",
       "      <td>75</td>\n",
       "      <td>10101</td>\n",
       "      <td>1</td>\n",
       "      <td>838</td>\n",
       "      <td>37.806470</td>\n",
       "      <td>-122.411618</td>\n",
       "    </tr>\n",
       "    <tr>\n",
       "      <th>19724</th>\n",
       "      <td>6</td>\n",
       "      <td>75</td>\n",
       "      <td>10101</td>\n",
       "      <td>2</td>\n",
       "      <td>1188</td>\n",
       "      <td>37.805256</td>\n",
       "      <td>-122.409315</td>\n",
       "    </tr>\n",
       "    <tr>\n",
       "      <th>19725</th>\n",
       "      <td>6</td>\n",
       "      <td>75</td>\n",
       "      <td>10102</td>\n",
       "      <td>1</td>\n",
       "      <td>2000</td>\n",
       "      <td>37.804714</td>\n",
       "      <td>-122.414025</td>\n",
       "    </tr>\n",
       "    <tr>\n",
       "      <th>19726</th>\n",
       "      <td>6</td>\n",
       "      <td>75</td>\n",
       "      <td>10201</td>\n",
       "      <td>1</td>\n",
       "      <td>1395</td>\n",
       "      <td>37.801791</td>\n",
       "      <td>-122.421771</td>\n",
       "    </tr>\n",
       "    <tr>\n",
       "      <th>19727</th>\n",
       "      <td>6</td>\n",
       "      <td>75</td>\n",
       "      <td>10201</td>\n",
       "      <td>2</td>\n",
       "      <td>1073</td>\n",
       "      <td>37.800306</td>\n",
       "      <td>-122.421519</td>\n",
       "    </tr>\n",
       "    <tr>\n",
       "      <th>19728</th>\n",
       "      <td>6</td>\n",
       "      <td>75</td>\n",
       "      <td>10202</td>\n",
       "      <td>1</td>\n",
       "      <td>1017</td>\n",
       "      <td>37.804905</td>\n",
       "      <td>-122.420166</td>\n",
       "    </tr>\n",
       "    <tr>\n",
       "      <th>19729</th>\n",
       "      <td>6</td>\n",
       "      <td>75</td>\n",
       "      <td>10202</td>\n",
       "      <td>2</td>\n",
       "      <td>1057</td>\n",
       "      <td>37.804307</td>\n",
       "      <td>-122.423391</td>\n",
       "    </tr>\n",
       "    <tr>\n",
       "      <th>19730</th>\n",
       "      <td>6</td>\n",
       "      <td>75</td>\n",
       "      <td>10300</td>\n",
       "      <td>1</td>\n",
       "      <td>1685</td>\n",
       "      <td>37.802812</td>\n",
       "      <td>-122.415833</td>\n",
       "    </tr>\n",
       "    <tr>\n",
       "      <th>19731</th>\n",
       "      <td>6</td>\n",
       "      <td>75</td>\n",
       "      <td>10300</td>\n",
       "      <td>2</td>\n",
       "      <td>1091</td>\n",
       "      <td>37.800983</td>\n",
       "      <td>-122.414462</td>\n",
       "    </tr>\n",
       "    <tr>\n",
       "      <th>19732</th>\n",
       "      <td>6</td>\n",
       "      <td>75</td>\n",
       "      <td>10300</td>\n",
       "      <td>3</td>\n",
       "      <td>1286</td>\n",
       "      <td>37.799587</td>\n",
       "      <td>-122.415211</td>\n",
       "    </tr>\n",
       "  </tbody>\n",
       "</table>\n",
       "</div>"
      ],
      "text/plain": [
       "       STATEFP  COUNTYFP  TRACTCE  BLKGRPCE  POPULATION   LATITUDE   LONGITUDE\n",
       "19723        6        75    10101         1         838  37.806470 -122.411618\n",
       "19724        6        75    10101         2        1188  37.805256 -122.409315\n",
       "19725        6        75    10102         1        2000  37.804714 -122.414025\n",
       "19726        6        75    10201         1        1395  37.801791 -122.421771\n",
       "19727        6        75    10201         2        1073  37.800306 -122.421519\n",
       "19728        6        75    10202         1        1017  37.804905 -122.420166\n",
       "19729        6        75    10202         2        1057  37.804307 -122.423391\n",
       "19730        6        75    10300         1        1685  37.802812 -122.415833\n",
       "19731        6        75    10300         2        1091  37.800983 -122.414462\n",
       "19732        6        75    10300         3        1286  37.799587 -122.415211"
      ]
     },
     "execution_count": 22,
     "metadata": {},
     "output_type": "execute_result"
    }
   ],
   "source": [
    "# Directly filter where COUNTYFP is 75 (as an integer)\n",
    "filtered_df_SMC = df[df['COUNTYFP'] == 75]\n",
    "filtered_df_SMC.head(10)"
   ]
  },
  {
   "cell_type": "code",
   "execution_count": 23,
   "metadata": {},
   "outputs": [],
   "source": [
    "import geopandas as gpd\n",
    "import matplotlib.pyplot as plt"
   ]
  },
  {
   "cell_type": "code",
   "execution_count": 25,
   "metadata": {},
   "outputs": [
    {
     "data": {
      "image/png": "[encoded data removed]",
      "text/plain": [
       "<Figure size 640x480 with 1 Axes>"
      ]
     },
     "metadata": {},
     "output_type": "display_data"
    }
   ],
   "source": [
    "# Create a GeoDataFrame from the filtered_df_SMC\n",
    "gdf_SMC = gpd.GeoDataFrame(filtered_df_SMC, geometry=gpd.points_from_xy(filtered_df_SMC['LONGITUDE'], filtered_df_SMC['LATITUDE']))\n",
    "\n",
    "# Ensure the CRS is set to 'EPSG:4326' for latitude and longitude (WGS84)\n",
    "gdf_SMC.set_crs('EPSG:4326', inplace=True)\n",
    "\n",
    "# Plot the locations of the filtered centroids\n",
    "gdf_SMC.plot(marker='o', color='blue', markersize=5)\n",
    "\n",
    "# Title and axis labels\n",
    "plt.title('San Mateo County Census Tract Locations')\n",
    "plt.xlabel('Longitude')\n",
    "plt.ylabel('Latitude')\n",
    "\n",
    "# Show the plot\n",
    "plt.show()"
   ]
  },
  {
   "cell_type": "code",
   "execution_count": null,
   "metadata": {},
   "outputs": [],
   "source": []
  }
 ],
 "metadata": {
  "kernelspec": {
   "display_name": ".venv",
   "language": "python",
   "name": "python3"
  },
  "language_info": {
   "codemirror_mode": {
    "name": "ipython",
    "version": 3
   },
   "file_extension": ".py",
   "mimetype": "text/x-python",
   "name": "python",
   "nbconvert_exporter": "python",
   "pygments_lexer": "ipython3",
   "version": "3.12.9"
  }
 },
 "nbformat": 4,
 "nbformat_minor": 2
}

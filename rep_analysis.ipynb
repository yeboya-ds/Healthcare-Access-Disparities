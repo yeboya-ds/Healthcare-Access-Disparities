{
 "cells": [
  {
   "cell_type": "code",
   "execution_count": null,
   "metadata": {},
   "outputs": [],
   "source": [
    "!pip install pandas\n",
    "!pip install numpy\n",
    "!pip install matplotlib\n",
    "!pip install geopy"
   ]
  },
  {
   "cell_type": "code",
   "execution_count": 1,
   "metadata": {},
   "outputs": [
    {
     "name": "stdout",
     "output_type": "stream",
     "text": [
      "Requirement already satisfied: seaborn in c:\\users\\bye\\onedrive - county of san mateo\\desktop\\hospital parity study\\.venv\\lib\\site-packages (0.13.2)\n",
      "Requirement already satisfied: numpy!=1.24.0,>=1.20 in c:\\users\\bye\\onedrive - county of san mateo\\desktop\\hospital parity study\\.venv\\lib\\site-packages (from seaborn) (2.2.4)\n",
      "Requirement already satisfied: pandas>=1.2 in c:\\users\\bye\\onedrive - county of san mateo\\desktop\\hospital parity study\\.venv\\lib\\site-packages (from seaborn) (2.2.3)\n",
      "Requirement already satisfied: matplotlib!=3.6.1,>=3.4 in c:\\users\\bye\\onedrive - county of san mateo\\desktop\\hospital parity study\\.venv\\lib\\site-packages (from seaborn) (3.10.1)\n",
      "Requirement already satisfied: contourpy>=1.0.1 in c:\\users\\bye\\onedrive - county of san mateo\\desktop\\hospital parity study\\.venv\\lib\\site-packages (from matplotlib!=3.6.1,>=3.4->seaborn) (1.3.1)\n",
      "Requirement already satisfied: cycler>=0.10 in c:\\users\\bye\\onedrive - county of san mateo\\desktop\\hospital parity study\\.venv\\lib\\site-packages (from matplotlib!=3.6.1,>=3.4->seaborn) (0.12.1)\n",
      "Requirement already satisfied: fonttools>=4.22.0 in c:\\users\\bye\\onedrive - county of san mateo\\desktop\\hospital parity study\\.venv\\lib\\site-packages (from matplotlib!=3.6.1,>=3.4->seaborn) (4.56.0)\n",
      "Requirement already satisfied: kiwisolver>=1.3.1 in c:\\users\\bye\\onedrive - county of san mateo\\desktop\\hospital parity study\\.venv\\lib\\site-packages (from matplotlib!=3.6.1,>=3.4->seaborn) (1.4.8)\n",
      "Requirement already satisfied: packaging>=20.0 in c:\\users\\bye\\onedrive - county of san mateo\\desktop\\hospital parity study\\.venv\\lib\\site-packages (from matplotlib!=3.6.1,>=3.4->seaborn) (24.2)\n",
      "Requirement already satisfied: pillow>=8 in c:\\users\\bye\\onedrive - county of san mateo\\desktop\\hospital parity study\\.venv\\lib\\site-packages (from matplotlib!=3.6.1,>=3.4->seaborn) (11.1.0)\n",
      "Requirement already satisfied: pyparsing>=2.3.1 in c:\\users\\bye\\onedrive - county of san mateo\\desktop\\hospital parity study\\.venv\\lib\\site-packages (from matplotlib!=3.6.1,>=3.4->seaborn) (3.2.1)\n",
      "Requirement already satisfied: python-dateutil>=2.7 in c:\\users\\bye\\onedrive - county of san mateo\\desktop\\hospital parity study\\.venv\\lib\\site-packages (from matplotlib!=3.6.1,>=3.4->seaborn) (2.9.0.post0)\n",
      "Requirement already satisfied: pytz>=2020.1 in c:\\users\\bye\\onedrive - county of san mateo\\desktop\\hospital parity study\\.venv\\lib\\site-packages (from pandas>=1.2->seaborn) (2025.1)\n",
      "Requirement already satisfied: tzdata>=2022.7 in c:\\users\\bye\\onedrive - county of san mateo\\desktop\\hospital parity study\\.venv\\lib\\site-packages (from pandas>=1.2->seaborn) (2025.1)\n",
      "Requirement already satisfied: six>=1.5 in c:\\users\\bye\\onedrive - county of san mateo\\desktop\\hospital parity study\\.venv\\lib\\site-packages (from python-dateutil>=2.7->matplotlib!=3.6.1,>=3.4->seaborn) (1.17.0)\n"
     ]
    }
   ],
   "source": [
    "!pip install seaborn"
   ]
  },
  {
   "cell_type": "code",
   "execution_count": 2,
   "metadata": {},
   "outputs": [
    {
     "name": "stdout",
     "output_type": "stream",
     "text": [
      "Requirement already satisfied: folium in c:\\users\\bye\\onedrive - county of san mateo\\desktop\\hospital parity study\\.venv\\lib\\site-packages (0.19.5)\n",
      "Requirement already satisfied: branca>=0.6.0 in c:\\users\\bye\\onedrive - county of san mateo\\desktop\\hospital parity study\\.venv\\lib\\site-packages (from folium) (0.8.1)\n",
      "Requirement already satisfied: jinja2>=2.9 in c:\\users\\bye\\onedrive - county of san mateo\\desktop\\hospital parity study\\.venv\\lib\\site-packages (from folium) (3.1.6)\n",
      "Requirement already satisfied: numpy in c:\\users\\bye\\onedrive - county of san mateo\\desktop\\hospital parity study\\.venv\\lib\\site-packages (from folium) (2.2.4)\n",
      "Requirement already satisfied: requests in c:\\users\\bye\\onedrive - county of san mateo\\desktop\\hospital parity study\\.venv\\lib\\site-packages (from folium) (2.32.3)\n",
      "Requirement already satisfied: xyzservices in c:\\users\\bye\\onedrive - county of san mateo\\desktop\\hospital parity study\\.venv\\lib\\site-packages (from folium) (2025.1.0)\n",
      "Requirement already satisfied: MarkupSafe>=2.0 in c:\\users\\bye\\onedrive - county of san mateo\\desktop\\hospital parity study\\.venv\\lib\\site-packages (from jinja2>=2.9->folium) (3.0.2)\n",
      "Requirement already satisfied: charset-normalizer<4,>=2 in c:\\users\\bye\\onedrive - county of san mateo\\desktop\\hospital parity study\\.venv\\lib\\site-packages (from requests->folium) (3.4.1)\n",
      "Requirement already satisfied: idna<4,>=2.5 in c:\\users\\bye\\onedrive - county of san mateo\\desktop\\hospital parity study\\.venv\\lib\\site-packages (from requests->folium) (3.10)\n",
      "Requirement already satisfied: urllib3<3,>=1.21.1 in c:\\users\\bye\\onedrive - county of san mateo\\desktop\\hospital parity study\\.venv\\lib\\site-packages (from requests->folium) (2.3.0)\n",
      "Requirement already satisfied: certifi>=2017.4.17 in c:\\users\\bye\\onedrive - county of san mateo\\desktop\\hospital parity study\\.venv\\lib\\site-packages (from requests->folium) (2025.1.31)\n"
     ]
    }
   ],
   "source": [
    "!pip install folium"
   ]
  },
  {
   "cell_type": "code",
   "execution_count": 3,
   "metadata": {},
   "outputs": [
    {
     "name": "stdout",
     "output_type": "stream",
     "text": [
      "Requirement already satisfied: shapely in c:\\users\\bye\\onedrive - county of san mateo\\desktop\\hospital parity study\\.venv\\lib\\site-packages (2.0.7)\n",
      "Requirement already satisfied: numpy<3,>=1.14 in c:\\users\\bye\\onedrive - county of san mateo\\desktop\\hospital parity study\\.venv\\lib\\site-packages (from shapely) (2.2.4)\n",
      "Requirement already satisfied: geopandas in c:\\users\\bye\\onedrive - county of san mateo\\desktop\\hospital parity study\\.venv\\lib\\site-packages (1.0.1)\n",
      "Requirement already satisfied: numpy>=1.22 in c:\\users\\bye\\onedrive - county of san mateo\\desktop\\hospital parity study\\.venv\\lib\\site-packages (from geopandas) (2.2.4)\n",
      "Requirement already satisfied: pyogrio>=0.7.2 in c:\\users\\bye\\onedrive - county of san mateo\\desktop\\hospital parity study\\.venv\\lib\\site-packages (from geopandas) (0.10.0)\n",
      "Requirement already satisfied: packaging in c:\\users\\bye\\onedrive - county of san mateo\\desktop\\hospital parity study\\.venv\\lib\\site-packages (from geopandas) (24.2)\n",
      "Requirement already satisfied: pandas>=1.4.0 in c:\\users\\bye\\onedrive - county of san mateo\\desktop\\hospital parity study\\.venv\\lib\\site-packages (from geopandas) (2.2.3)\n",
      "Requirement already satisfied: pyproj>=3.3.0 in c:\\users\\bye\\onedrive - county of san mateo\\desktop\\hospital parity study\\.venv\\lib\\site-packages (from geopandas) (3.7.1)\n",
      "Requirement already satisfied: shapely>=2.0.0 in c:\\users\\bye\\onedrive - county of san mateo\\desktop\\hospital parity study\\.venv\\lib\\site-packages (from geopandas) (2.0.7)\n",
      "Requirement already satisfied: python-dateutil>=2.8.2 in c:\\users\\bye\\onedrive - county of san mateo\\desktop\\hospital parity study\\.venv\\lib\\site-packages (from pandas>=1.4.0->geopandas) (2.9.0.post0)\n",
      "Requirement already satisfied: pytz>=2020.1 in c:\\users\\bye\\onedrive - county of san mateo\\desktop\\hospital parity study\\.venv\\lib\\site-packages (from pandas>=1.4.0->geopandas) (2025.1)\n",
      "Requirement already satisfied: tzdata>=2022.7 in c:\\users\\bye\\onedrive - county of san mateo\\desktop\\hospital parity study\\.venv\\lib\\site-packages (from pandas>=1.4.0->geopandas) (2025.1)\n",
      "Requirement already satisfied: certifi in c:\\users\\bye\\onedrive - county of san mateo\\desktop\\hospital parity study\\.venv\\lib\\site-packages (from pyogrio>=0.7.2->geopandas) (2025.1.31)\n",
      "Requirement already satisfied: six>=1.5 in c:\\users\\bye\\onedrive - county of san mateo\\desktop\\hospital parity study\\.venv\\lib\\site-packages (from python-dateutil>=2.8.2->pandas>=1.4.0->geopandas) (1.17.0)\n"
     ]
    }
   ],
   "source": [
    "!pip install shapely\n",
    "!pip install geopandas"
   ]
  },
  {
   "cell_type": "code",
   "execution_count": 4,
   "metadata": {},
   "outputs": [],
   "source": [
    "import pandas as pd\n",
    "import numpy as np\n",
    "import matplotlib.pyplot as plt\n",
    "import seaborn as sns\n",
    "from geopy.distance import geodesic\n",
    "import sqlite3\n",
    "import folium\n",
    "from shapely.geometry import Point, Polygon\n",
    "import geopandas as gpd"
   ]
  },
  {
   "cell_type": "code",
   "execution_count": 5,
   "metadata": {},
   "outputs": [
    {
     "name": "stdout",
     "output_type": "stream",
     "text": [
      "Hospital data shape: (143, 11)\n",
      "        ID                                              MNAME       CNTYNAME  \\\n",
      "0  6730001                             Rolling Hills Hospital   Pontotoc, OK   \n",
      "1  6730005               Southwestern Regional Medical Center      Tulsa, OK   \n",
      "2  6730009  J. D. McCarty Center for Children With Develop...  Cleveland, OK   \n",
      "3  6730010                                 Mercy Hospital Ada   Pontotoc, OK   \n",
      "4  6730012                  Curahealth Hospital Oklahoma City   Oklahoma, OK   \n",
      "\n",
      "   MCRNUM                    MLOCADDR       MLOCCITY  CNTRL  OBLEV  FCOUNTY  \\\n",
      "0  374016     1000 Rolling Hills Lane            Ada     33      0    40123   \n",
      "1  370190      10109 East 79th Street          Tulsa     33      0    40143   \n",
      "2  373300          2002 East Robinson         Norman     12      0    40027   \n",
      "3  370020       430 North Monte Vista            Ada     21      1    40123   \n",
      "4  372004  1407 North Robinson Avenue  Oklahoma City     33      0    40109   \n",
      "\n",
      "       LAT     LONG  \n",
      "0  34.7846 -96.6274  \n",
      "1  36.0515 -95.8633  \n",
      "2  35.2320 -97.4074  \n",
      "3  34.7782 -96.6333  \n",
      "4  35.4828 -97.5165  \n",
      "<class 'pandas.core.frame.DataFrame'>\n",
      "RangeIndex: 143 entries, 0 to 142\n",
      "Data columns (total 11 columns):\n",
      " #   Column    Non-Null Count  Dtype  \n",
      "---  ------    --------------  -----  \n",
      " 0   ID        143 non-null    int64  \n",
      " 1   MNAME     143 non-null    object \n",
      " 2   CNTYNAME  143 non-null    object \n",
      " 3   MCRNUM    143 non-null    int64  \n",
      " 4   MLOCADDR  143 non-null    object \n",
      " 5   MLOCCITY  143 non-null    object \n",
      " 6   CNTRL     143 non-null    int64  \n",
      " 7   OBLEV     143 non-null    int64  \n",
      " 8   FCOUNTY   143 non-null    int64  \n",
      " 9   LAT       143 non-null    float64\n",
      " 10  LONG      143 non-null    float64\n",
      "dtypes: float64(2), int64(5), object(4)\n",
      "memory usage: 12.4+ KB\n",
      "None\n",
      "                 ID         MCRNUM       CNTRL       OBLEV       FCOUNTY  \\\n",
      "count  1.430000e+02     143.000000  143.000000  143.000000    143.000000   \n",
      "mean   6.730838e+06  365815.000000   24.734266    0.475524  40090.748252   \n",
      "std    1.791419e+03   43737.159962    8.718566    0.846136     44.154573   \n",
      "min    6.730001e+06       0.000000   12.000000    0.000000  40001.000000   \n",
      "25%    6.730070e+06  370095.500000   16.000000    0.000000  40048.000000   \n",
      "50%    6.730450e+06  370227.000000   23.000000    0.000000  40109.000000   \n",
      "75%    6.730954e+06  371331.500000   33.000000    1.000000  40123.000000   \n",
      "max    6.739140e+06  374025.000000   47.000000    3.000000  40153.000000   \n",
      "\n",
      "              LAT        LONG  \n",
      "count  143.000000  143.000000  \n",
      "mean    35.606175  -97.047124  \n",
      "std      0.728571    1.423470  \n",
      "min     33.880900 -102.518000  \n",
      "25%     35.239150  -97.608750  \n",
      "50%     35.606800  -97.130800  \n",
      "75%     36.134600  -95.943600  \n",
      "max     36.872700  -94.612400  \n",
      "Index(['ID', 'MNAME', 'CNTYNAME', 'MCRNUM', 'MLOCADDR', 'MLOCCITY', 'CNTRL',\n",
      "       'OBLEV', 'FCOUNTY', 'LAT', 'LONG'],\n",
      "      dtype='object')\n"
     ]
    }
   ],
   "source": [
    "# Step 1: Data Collection & Exploration\n",
    "# Load the hospital data\n",
    "hospitals_df = pd.read_csv(r\"C:\\Users\\bye\\OneDrive - County of San Mateo\\Desktop\\hospital parity study\\OK maternal hospitals 2019.csv\")\n",
    "print(\"Hospital data shape:\", hospitals_df.shape)\n",
    "print(hospitals_df.head())\n",
    "print(hospitals_df.info())\n",
    "print(hospitals_df.describe())\n",
    "print(hospitals_df.columns)\n"
   ]
  },
  {
   "cell_type": "code",
   "execution_count": 6,
   "metadata": {},
   "outputs": [
    {
     "data": {
      "image/png": "[encoded data removed]",
      "text/plain": [
       "<Figure size 800x600 with 1 Axes>"
      ]
     },
     "metadata": {},
     "output_type": "display_data"
    }
   ],
   "source": [
    "plt.figure(figsize=(8, 6))\n",
    "plt.scatter(hospitals_df['LONG'], hospitals_df['LAT'], c='blue', marker='o')\n",
    "plt.xlabel('LONG')\n",
    "plt.ylabel('LAT')\n",
    "plt.title('Hospital Locations on Map')\n",
    "plt.show()"
   ]
  },
  {
   "cell_type": "code",
   "execution_count": 7,
   "metadata": {},
   "outputs": [
    {
     "data": {
      "image/png": "[encoded data removed]",
      "text/plain": [
       "<Figure size 640x480 with 1 Axes>"
      ]
     },
     "metadata": {},
     "output_type": "display_data"
    }
   ],
   "source": [
    "\n",
    "# using geopandas for spatial analysis\n",
    "gdf = gpd.GeoDataFrame(hospitals_df, geometry=gpd.points_from_xy(hospitals_df['LONG'], hospitals_df['LAT']))\n",
    "\n",
    "# Plot the locations of hospitals on a map\n",
    "gdf.plot(marker='o', color='blue', markersize=5)\n",
    "plt.title('Hospital Locations')\n",
    "plt.xlabel('LONG')\n",
    "plt.ylabel('LAT')\n",
    "plt.show()\n"
   ]
  },
  {
   "cell_type": "code",
   "execution_count": 8,
   "metadata": {},
   "outputs": [
    {
     "name": "stdout",
     "output_type": "stream",
     "text": [
      "\n",
      "Geographic data shape: (77, 10)\n",
      "  USPS  GEOID  ANSICODE            NAME       ALAND    AWATER  ALAND_SQMI  \\\n",
      "0   OK  40001   1101788    Adair County  1486277939   8874158     573.855   \n",
      "1   OK  40003   1101789  Alfalfa County  2244392665  38546676     866.565   \n",
      "2   OK  40005   1101790    Atoka County  2526393964  37287777     975.446   \n",
      "3   OK  40007   1101791   Beaver County  4700407527   7347161    1814.838   \n",
      "4   OK  40009   1101792  Beckham County  2335338428   5514684     901.679   \n",
      "\n",
      "   AWATER_SQMI   INTPTLAT  \\\n",
      "0        3.426  35.898043   \n",
      "1       14.883  36.729703   \n",
      "2       14.397  34.392469   \n",
      "3        2.837  36.748334   \n",
      "4        2.129  35.270601   \n",
      "\n",
      "   INTPTLONG                                                                                                                 \n",
      "0                                         -94.651026                                                                         \n",
      "1                                         -98.323445                                                                         \n",
      "2                                         -96.036558                                                                         \n",
      "3                                        -100.483056                                                                         \n",
      "4                                         -99.690057                                                                         \n",
      "<class 'pandas.core.frame.DataFrame'>\n",
      "RangeIndex: 77 entries, 0 to 76\n",
      "Data columns (total 10 columns):\n",
      " #   Column                                                                                                                    Non-Null Count  Dtype  \n",
      "---  ------                                                                                                                    --------------  -----  \n",
      " 0   USPS                                                                                                                      77 non-null     object \n",
      " 1   GEOID                                                                                                                     77 non-null     int64  \n",
      " 2   ANSICODE                                                                                                                  77 non-null     int64  \n",
      " 3   NAME                                                                                                                      77 non-null     object \n",
      " 4   ALAND                                                                                                                     77 non-null     int64  \n",
      " 5   AWATER                                                                                                                    77 non-null     int64  \n",
      " 6   ALAND_SQMI                                                                                                                77 non-null     float64\n",
      " 7   AWATER_SQMI                                                                                                               77 non-null     float64\n",
      " 8   INTPTLAT                                                                                                                  77 non-null     float64\n",
      " 9   INTPTLONG                                                                                                                 77 non-null     float64\n",
      "dtypes: float64(4), int64(4), object(2)\n",
      "memory usage: 6.1+ KB\n",
      "None\n",
      "Index(['USPS', 'GEOID', 'ANSICODE', 'NAME', 'ALAND', 'AWATER', 'ALAND_SQMI',\n",
      "       'AWATER_SQMI', 'INTPTLAT',\n",
      "       'INTPTLONG                                                                                                               '],\n",
      "      dtype='object')\n"
     ]
    }
   ],
   "source": [
    "# Load the geographic data (FIPS)\n",
    "geo_df = pd.read_csv(r\"C:\\Users\\bye\\OneDrive - County of San Mateo\\Desktop\\hospital parity study\\OK fips geocoordinates.csv\")\n",
    "print(\"\\nGeographic data shape:\", geo_df.shape)\n",
    "print(geo_df.head())\n",
    "print(geo_df.info())\n",
    "print(geo_df.columns)"
   ]
  },
  {
   "cell_type": "code",
   "execution_count": 9,
   "metadata": {},
   "outputs": [
    {
     "name": "stdout",
     "output_type": "stream",
     "text": [
      "['USPS', 'GEOID', 'ANSICODE', 'NAME', 'ALAND', 'AWATER', 'ALAND_SQMI', 'AWATER_SQMI', 'INTPTLAT', 'INTPTLONG                                                                                                               ']\n"
     ]
    }
   ],
   "source": [
    "# Check the actual column names in your geo_df\n",
    "print(geo_df.columns.tolist())"
   ]
  },
  {
   "cell_type": "code",
   "execution_count": 10,
   "metadata": {},
   "outputs": [],
   "source": [
    "# Clean column names by stripping whitespace\n",
    "geo_df.columns = [col.strip() for col in geo_df.columns]\n",
    "\n",
    "# Now use the clean column names\n",
    "gdf = gpd.GeoDataFrame(geo_df, geometry=gpd.points_from_xy(\n",
    "    geo_df['INTPTLONG'], geo_df['INTPTLAT']))"
   ]
  },
  {
   "cell_type": "code",
   "execution_count": 11,
   "metadata": {},
   "outputs": [
    {
     "data": {
      "image/png": "[encoded data removed]",
      "text/plain": [
       "<Figure size 640x480 with 1 Axes>"
      ]
     },
     "metadata": {},
     "output_type": "display_data"
    }
   ],
   "source": [
    "# using geopandas for spatial analysis\n",
    "gdf = gpd.GeoDataFrame(geo_df, geometry=gpd.points_from_xy(geo_df['INTPTLONG'], geo_df['INTPTLAT']))\n",
    "\n",
    "# Plot the locations of FIPS on a map\n",
    "gdf.plot(marker='o', color='blue', markersize=5)\n",
    "plt.title('FIPS Locations')\n",
    "plt.xlabel('INTPTLONG')\n",
    "plt.ylabel('INTPTLAT')\n",
    "plt.show()"
   ]
  },
  {
   "cell_type": "code",
   "execution_count": 19,
   "metadata": {},
   "outputs": [
    {
     "data": {
      "image/png": "[encoded data removed]",
      "text/plain": [
       "<Figure size 1000x600 with 1 Axes>"
      ]
     },
     "metadata": {},
     "output_type": "display_data"
    }
   ],
   "source": [
    "#add hopsitals and FIPS locations on the same map\n",
    "import geopandas as gpd\n",
    "import matplotlib.pyplot as plt\n",
    "\n",
    "# Create GeoDataFrames\n",
    "hospitals_gdf = gpd.GeoDataFrame(hospitals_df, geometry=gpd.points_from_xy(hospitals_df['LONG'], hospitals_df['LAT']))\n",
    "fips_gdf = gpd.GeoDataFrame(geo_df, geometry=gpd.points_from_xy(geo_df['INTPTLONG'], geo_df['INTPTLAT']))\n",
    "\n",
    "# Plot the points on the same figure\n",
    "fig, ax = plt.subplots(figsize=(10, 6))\n",
    "\n",
    "# Plot hospital locations in blue\n",
    "hospitals_gdf.plot(ax=ax, marker='o', color='blue', markersize=5, label='Hospitals')\n",
    "\n",
    "# Plot FIPS locations in red\n",
    "fips_gdf.plot(ax=ax, marker='x', color='red', markersize=5, label='FIPS')\n",
    "\n",
    "# Add title and labels\n",
    "plt.title('Hospitals and FIPS Locations')\n",
    "plt.xlabel('Longitude')\n",
    "plt.ylabel('Latitude')\n",
    "\n",
    "# Add legend\n",
    "plt.legend()\n",
    "\n",
    "# Show plot\n",
    "plt.show()\n"
   ]
  },
  {
   "cell_type": "code",
   "execution_count": 27,
   "metadata": {},
   "outputs": [
    {
     "name": "stderr",
     "output_type": "stream",
     "text": [
      "C:\\Users\\bye\\AppData\\Local\\Temp\\ipykernel_26400\\1412173559.py:2: UserWarning: Column names longer than 10 characters will be truncated when saved to ESRI Shapefile.\n",
      "  hospitals_gdf.to_file(\"hospitals.shp\")\n",
      "c:\\Users\\bye\\OneDrive - County of San Mateo\\Desktop\\hospital parity study\\.venv\\Lib\\site-packages\\pyogrio\\raw.py:723: RuntimeWarning: Normalized/laundered field name: 'CLEAN_COUNTY' to 'CLEAN_COUN'\n",
      "  ogr_write(\n",
      "C:\\Users\\bye\\AppData\\Local\\Temp\\ipykernel_26400\\1412173559.py:3: UserWarning: Column names longer than 10 characters will be truncated when saved to ESRI Shapefile.\n",
      "  fips_gdf.to_file(\"fips.shp\")\n",
      "c:\\Users\\bye\\OneDrive - County of San Mateo\\Desktop\\hospital parity study\\.venv\\Lib\\site-packages\\pyogrio\\raw.py:723: RuntimeWarning: Normalized/laundered field name: 'AWATER_SQMI' to 'AWATER_SQM'\n",
      "  ogr_write(\n",
      "c:\\Users\\bye\\OneDrive - County of San Mateo\\Desktop\\hospital parity study\\.venv\\Lib\\site-packages\\pyogrio\\raw.py:723: RuntimeWarning: Normalized/laundered field name: 'CLEAN_COUNTY' to 'CLEAN_COUN'\n",
      "  ogr_write(\n"
     ]
    }
   ],
   "source": [
    "#Export to Shapefile\n",
    "hospitals_gdf.to_file(\"hospitals.shp\")\n",
    "fips_gdf.to_file(\"fips.shp\")"
   ]
  },
  {
   "cell_type": "code",
   "execution_count": 26,
   "metadata": {},
   "outputs": [
    {
     "name": "stdout",
     "output_type": "stream",
     "text": [
      "Requirement already satisfied: contextily in c:\\users\\bye\\onedrive - county of san mateo\\desktop\\hospital parity study\\.venv\\lib\\site-packages (1.6.2)\n",
      "Requirement already satisfied: geopy in c:\\users\\bye\\onedrive - county of san mateo\\desktop\\hospital parity study\\.venv\\lib\\site-packages (from contextily) (2.4.1)\n",
      "Requirement already satisfied: matplotlib in c:\\users\\bye\\onedrive - county of san mateo\\desktop\\hospital parity study\\.venv\\lib\\site-packages (from contextily) (3.10.1)\n",
      "Requirement already satisfied: mercantile in c:\\users\\bye\\onedrive - county of san mateo\\desktop\\hospital parity study\\.venv\\lib\\site-packages (from contextily) (1.2.1)\n",
      "Requirement already satisfied: pillow in c:\\users\\bye\\onedrive - county of san mateo\\desktop\\hospital parity study\\.venv\\lib\\site-packages (from contextily) (11.1.0)\n",
      "Requirement already satisfied: rasterio in c:\\users\\bye\\onedrive - county of san mateo\\desktop\\hospital parity study\\.venv\\lib\\site-packages (from contextily) (1.4.3)\n",
      "Requirement already satisfied: requests in c:\\users\\bye\\onedrive - county of san mateo\\desktop\\hospital parity study\\.venv\\lib\\site-packages (from contextily) (2.32.3)\n",
      "Requirement already satisfied: joblib in c:\\users\\bye\\onedrive - county of san mateo\\desktop\\hospital parity study\\.venv\\lib\\site-packages (from contextily) (1.4.2)\n",
      "Requirement already satisfied: xyzservices in c:\\users\\bye\\onedrive - county of san mateo\\desktop\\hospital parity study\\.venv\\lib\\site-packages (from contextily) (2025.1.0)\n",
      "Requirement already satisfied: geographiclib<3,>=1.52 in c:\\users\\bye\\onedrive - county of san mateo\\desktop\\hospital parity study\\.venv\\lib\\site-packages (from geopy->contextily) (2.0)\n",
      "Requirement already satisfied: contourpy>=1.0.1 in c:\\users\\bye\\onedrive - county of san mateo\\desktop\\hospital parity study\\.venv\\lib\\site-packages (from matplotlib->contextily) (1.3.1)\n",
      "Requirement already satisfied: cycler>=0.10 in c:\\users\\bye\\onedrive - county of san mateo\\desktop\\hospital parity study\\.venv\\lib\\site-packages (from matplotlib->contextily) (0.12.1)\n",
      "Requirement already satisfied: fonttools>=4.22.0 in c:\\users\\bye\\onedrive - county of san mateo\\desktop\\hospital parity study\\.venv\\lib\\site-packages (from matplotlib->contextily) (4.56.0)\n",
      "Requirement already satisfied: kiwisolver>=1.3.1 in c:\\users\\bye\\onedrive - county of san mateo\\desktop\\hospital parity study\\.venv\\lib\\site-packages (from matplotlib->contextily) (1.4.8)\n",
      "Requirement already satisfied: numpy>=1.23 in c:\\users\\bye\\onedrive - county of san mateo\\desktop\\hospital parity study\\.venv\\lib\\site-packages (from matplotlib->contextily) (2.2.4)\n",
      "Requirement already satisfied: packaging>=20.0 in c:\\users\\bye\\onedrive - county of san mateo\\desktop\\hospital parity study\\.venv\\lib\\site-packages (from matplotlib->contextily) (24.2)\n",
      "Requirement already satisfied: pyparsing>=2.3.1 in c:\\users\\bye\\onedrive - county of san mateo\\desktop\\hospital parity study\\.venv\\lib\\site-packages (from matplotlib->contextily) (3.2.1)\n",
      "Requirement already satisfied: python-dateutil>=2.7 in c:\\users\\bye\\onedrive - county of san mateo\\desktop\\hospital parity study\\.venv\\lib\\site-packages (from matplotlib->contextily) (2.9.0.post0)\n",
      "Requirement already satisfied: click>=3.0 in c:\\users\\bye\\onedrive - county of san mateo\\desktop\\hospital parity study\\.venv\\lib\\site-packages (from mercantile->contextily) (8.1.8)\n",
      "Requirement already satisfied: affine in c:\\users\\bye\\onedrive - county of san mateo\\desktop\\hospital parity study\\.venv\\lib\\site-packages (from rasterio->contextily) (2.4.0)\n",
      "Requirement already satisfied: attrs in c:\\users\\bye\\onedrive - county of san mateo\\desktop\\hospital parity study\\.venv\\lib\\site-packages (from rasterio->contextily) (25.3.0)\n",
      "Requirement already satisfied: certifi in c:\\users\\bye\\onedrive - county of san mateo\\desktop\\hospital parity study\\.venv\\lib\\site-packages (from rasterio->contextily) (2025.1.31)\n",
      "Requirement already satisfied: cligj>=0.5 in c:\\users\\bye\\onedrive - county of san mateo\\desktop\\hospital parity study\\.venv\\lib\\site-packages (from rasterio->contextily) (0.7.2)\n",
      "Requirement already satisfied: click-plugins in c:\\users\\bye\\onedrive - county of san mateo\\desktop\\hospital parity study\\.venv\\lib\\site-packages (from rasterio->contextily) (1.1.1)\n",
      "Requirement already satisfied: charset-normalizer<4,>=2 in c:\\users\\bye\\onedrive - county of san mateo\\desktop\\hospital parity study\\.venv\\lib\\site-packages (from requests->contextily) (3.4.1)\n",
      "Requirement already satisfied: idna<4,>=2.5 in c:\\users\\bye\\onedrive - county of san mateo\\desktop\\hospital parity study\\.venv\\lib\\site-packages (from requests->contextily) (3.10)\n",
      "Requirement already satisfied: urllib3<3,>=1.21.1 in c:\\users\\bye\\onedrive - county of san mateo\\desktop\\hospital parity study\\.venv\\lib\\site-packages (from requests->contextily) (2.3.0)\n",
      "Requirement already satisfied: colorama in c:\\users\\bye\\onedrive - county of san mateo\\desktop\\hospital parity study\\.venv\\lib\\site-packages (from click>=3.0->mercantile->contextily) (0.4.6)\n",
      "Requirement already satisfied: six>=1.5 in c:\\users\\bye\\onedrive - county of san mateo\\desktop\\hospital parity study\\.venv\\lib\\site-packages (from python-dateutil>=2.7->matplotlib->contextily) (1.17.0)\n"
     ]
    },
    {
     "ename": "SSLError",
     "evalue": "HTTPSConnectionPool(host='a.basemaps.cartocdn.com', port=443): Max retries exceeded with url: /light_all/7/27/49.png (Caused by SSLError(SSLCertVerificationError(1, '[SSL: CERTIFICATE_VERIFY_FAILED] certificate verify failed: unable to get local issuer certificate (_ssl.c:1010)')))",
     "output_type": "error",
     "traceback": [
      "\u001b[31m---------------------------------------------------------------------------\u001b[39m",
      "\u001b[31mSSLCertVerificationError\u001b[39m                  Traceback (most recent call last)",
      "\u001b[36mFile \u001b[39m\u001b[32mc:\\Users\\bye\\OneDrive - County of San Mateo\\Desktop\\hospital parity study\\.venv\\Lib\\site-packages\\urllib3\\connectionpool.py:464\u001b[39m, in \u001b[36mHTTPConnectionPool._make_request\u001b[39m\u001b[34m(self, conn, method, url, body, headers, retries, timeout, chunked, response_conn, preload_content, decode_content, enforce_content_length)\u001b[39m\n\u001b[32m    463\u001b[39m \u001b[38;5;28;01mtry\u001b[39;00m:\n\u001b[32m--> \u001b[39m\u001b[32m464\u001b[39m     \u001b[38;5;28;43mself\u001b[39;49m\u001b[43m.\u001b[49m\u001b[43m_validate_conn\u001b[49m\u001b[43m(\u001b[49m\u001b[43mconn\u001b[49m\u001b[43m)\u001b[49m\n\u001b[32m    465\u001b[39m \u001b[38;5;28;01mexcept\u001b[39;00m (SocketTimeout, BaseSSLError) \u001b[38;5;28;01mas\u001b[39;00m e:\n",
      "\u001b[36mFile \u001b[39m\u001b[32mc:\\Users\\bye\\OneDrive - County of San Mateo\\Desktop\\hospital parity study\\.venv\\Lib\\site-packages\\urllib3\\connectionpool.py:1093\u001b[39m, in \u001b[36mHTTPSConnectionPool._validate_conn\u001b[39m\u001b[34m(self, conn)\u001b[39m\n\u001b[32m   1092\u001b[39m \u001b[38;5;28;01mif\u001b[39;00m conn.is_closed:\n\u001b[32m-> \u001b[39m\u001b[32m1093\u001b[39m     \u001b[43mconn\u001b[49m\u001b[43m.\u001b[49m\u001b[43mconnect\u001b[49m\u001b[43m(\u001b[49m\u001b[43m)\u001b[49m\n\u001b[32m   1095\u001b[39m \u001b[38;5;66;03m# TODO revise this, see https://github.com/urllib3/urllib3/issues/2791\u001b[39;00m\n",
      "\u001b[36mFile \u001b[39m\u001b[32mc:\\Users\\bye\\OneDrive - County of San Mateo\\Desktop\\hospital parity study\\.venv\\Lib\\site-packages\\urllib3\\connection.py:741\u001b[39m, in \u001b[36mHTTPSConnection.connect\u001b[39m\u001b[34m(self)\u001b[39m\n\u001b[32m    739\u001b[39m server_hostname_rm_dot = server_hostname.rstrip(\u001b[33m\"\u001b[39m\u001b[33m.\u001b[39m\u001b[33m\"\u001b[39m)\n\u001b[32m--> \u001b[39m\u001b[32m741\u001b[39m sock_and_verified = \u001b[43m_ssl_wrap_socket_and_match_hostname\u001b[49m\u001b[43m(\u001b[49m\n\u001b[32m    742\u001b[39m \u001b[43m    \u001b[49m\u001b[43msock\u001b[49m\u001b[43m=\u001b[49m\u001b[43msock\u001b[49m\u001b[43m,\u001b[49m\n\u001b[32m    743\u001b[39m \u001b[43m    \u001b[49m\u001b[43mcert_reqs\u001b[49m\u001b[43m=\u001b[49m\u001b[38;5;28;43mself\u001b[39;49m\u001b[43m.\u001b[49m\u001b[43mcert_reqs\u001b[49m\u001b[43m,\u001b[49m\n\u001b[32m    744\u001b[39m \u001b[43m    \u001b[49m\u001b[43mssl_version\u001b[49m\u001b[43m=\u001b[49m\u001b[38;5;28;43mself\u001b[39;49m\u001b[43m.\u001b[49m\u001b[43mssl_version\u001b[49m\u001b[43m,\u001b[49m\n\u001b[32m    745\u001b[39m \u001b[43m    \u001b[49m\u001b[43mssl_minimum_version\u001b[49m\u001b[43m=\u001b[49m\u001b[38;5;28;43mself\u001b[39;49m\u001b[43m.\u001b[49m\u001b[43mssl_minimum_version\u001b[49m\u001b[43m,\u001b[49m\n\u001b[32m    746\u001b[39m \u001b[43m    \u001b[49m\u001b[43mssl_maximum_version\u001b[49m\u001b[43m=\u001b[49m\u001b[38;5;28;43mself\u001b[39;49m\u001b[43m.\u001b[49m\u001b[43mssl_maximum_version\u001b[49m\u001b[43m,\u001b[49m\n\u001b[32m    747\u001b[39m \u001b[43m    \u001b[49m\u001b[43mca_certs\u001b[49m\u001b[43m=\u001b[49m\u001b[38;5;28;43mself\u001b[39;49m\u001b[43m.\u001b[49m\u001b[43mca_certs\u001b[49m\u001b[43m,\u001b[49m\n\u001b[32m    748\u001b[39m \u001b[43m    \u001b[49m\u001b[43mca_cert_dir\u001b[49m\u001b[43m=\u001b[49m\u001b[38;5;28;43mself\u001b[39;49m\u001b[43m.\u001b[49m\u001b[43mca_cert_dir\u001b[49m\u001b[43m,\u001b[49m\n\u001b[32m    749\u001b[39m \u001b[43m    \u001b[49m\u001b[43mca_cert_data\u001b[49m\u001b[43m=\u001b[49m\u001b[38;5;28;43mself\u001b[39;49m\u001b[43m.\u001b[49m\u001b[43mca_cert_data\u001b[49m\u001b[43m,\u001b[49m\n\u001b[32m    750\u001b[39m \u001b[43m    \u001b[49m\u001b[43mcert_file\u001b[49m\u001b[43m=\u001b[49m\u001b[38;5;28;43mself\u001b[39;49m\u001b[43m.\u001b[49m\u001b[43mcert_file\u001b[49m\u001b[43m,\u001b[49m\n\u001b[32m    751\u001b[39m \u001b[43m    \u001b[49m\u001b[43mkey_file\u001b[49m\u001b[43m=\u001b[49m\u001b[38;5;28;43mself\u001b[39;49m\u001b[43m.\u001b[49m\u001b[43mkey_file\u001b[49m\u001b[43m,\u001b[49m\n\u001b[32m    752\u001b[39m \u001b[43m    \u001b[49m\u001b[43mkey_password\u001b[49m\u001b[43m=\u001b[49m\u001b[38;5;28;43mself\u001b[39;49m\u001b[43m.\u001b[49m\u001b[43mkey_password\u001b[49m\u001b[43m,\u001b[49m\n\u001b[32m    753\u001b[39m \u001b[43m    \u001b[49m\u001b[43mserver_hostname\u001b[49m\u001b[43m=\u001b[49m\u001b[43mserver_hostname_rm_dot\u001b[49m\u001b[43m,\u001b[49m\n\u001b[32m    754\u001b[39m \u001b[43m    \u001b[49m\u001b[43mssl_context\u001b[49m\u001b[43m=\u001b[49m\u001b[38;5;28;43mself\u001b[39;49m\u001b[43m.\u001b[49m\u001b[43mssl_context\u001b[49m\u001b[43m,\u001b[49m\n\u001b[32m    755\u001b[39m \u001b[43m    \u001b[49m\u001b[43mtls_in_tls\u001b[49m\u001b[43m=\u001b[49m\u001b[43mtls_in_tls\u001b[49m\u001b[43m,\u001b[49m\n\u001b[32m    756\u001b[39m \u001b[43m    \u001b[49m\u001b[43massert_hostname\u001b[49m\u001b[43m=\u001b[49m\u001b[38;5;28;43mself\u001b[39;49m\u001b[43m.\u001b[49m\u001b[43massert_hostname\u001b[49m\u001b[43m,\u001b[49m\n\u001b[32m    757\u001b[39m \u001b[43m    \u001b[49m\u001b[43massert_fingerprint\u001b[49m\u001b[43m=\u001b[49m\u001b[38;5;28;43mself\u001b[39;49m\u001b[43m.\u001b[49m\u001b[43massert_fingerprint\u001b[49m\u001b[43m,\u001b[49m\n\u001b[32m    758\u001b[39m \u001b[43m\u001b[49m\u001b[43m)\u001b[49m\n\u001b[32m    759\u001b[39m \u001b[38;5;28mself\u001b[39m.sock = sock_and_verified.socket\n",
      "\u001b[36mFile \u001b[39m\u001b[32mc:\\Users\\bye\\OneDrive - County of San Mateo\\Desktop\\hospital parity study\\.venv\\Lib\\site-packages\\urllib3\\connection.py:920\u001b[39m, in \u001b[36m_ssl_wrap_socket_and_match_hostname\u001b[39m\u001b[34m(sock, cert_reqs, ssl_version, ssl_minimum_version, ssl_maximum_version, cert_file, key_file, key_password, ca_certs, ca_cert_dir, ca_cert_data, assert_hostname, assert_fingerprint, server_hostname, ssl_context, tls_in_tls)\u001b[39m\n\u001b[32m    918\u001b[39m         server_hostname = normalized\n\u001b[32m--> \u001b[39m\u001b[32m920\u001b[39m ssl_sock = \u001b[43mssl_wrap_socket\u001b[49m\u001b[43m(\u001b[49m\n\u001b[32m    921\u001b[39m \u001b[43m    \u001b[49m\u001b[43msock\u001b[49m\u001b[43m=\u001b[49m\u001b[43msock\u001b[49m\u001b[43m,\u001b[49m\n\u001b[32m    922\u001b[39m \u001b[43m    \u001b[49m\u001b[43mkeyfile\u001b[49m\u001b[43m=\u001b[49m\u001b[43mkey_file\u001b[49m\u001b[43m,\u001b[49m\n\u001b[32m    923\u001b[39m \u001b[43m    \u001b[49m\u001b[43mcertfile\u001b[49m\u001b[43m=\u001b[49m\u001b[43mcert_file\u001b[49m\u001b[43m,\u001b[49m\n\u001b[32m    924\u001b[39m \u001b[43m    \u001b[49m\u001b[43mkey_password\u001b[49m\u001b[43m=\u001b[49m\u001b[43mkey_password\u001b[49m\u001b[43m,\u001b[49m\n\u001b[32m    925\u001b[39m \u001b[43m    \u001b[49m\u001b[43mca_certs\u001b[49m\u001b[43m=\u001b[49m\u001b[43mca_certs\u001b[49m\u001b[43m,\u001b[49m\n\u001b[32m    926\u001b[39m \u001b[43m    \u001b[49m\u001b[43mca_cert_dir\u001b[49m\u001b[43m=\u001b[49m\u001b[43mca_cert_dir\u001b[49m\u001b[43m,\u001b[49m\n\u001b[32m    927\u001b[39m \u001b[43m    \u001b[49m\u001b[43mca_cert_data\u001b[49m\u001b[43m=\u001b[49m\u001b[43mca_cert_data\u001b[49m\u001b[43m,\u001b[49m\n\u001b[32m    928\u001b[39m \u001b[43m    \u001b[49m\u001b[43mserver_hostname\u001b[49m\u001b[43m=\u001b[49m\u001b[43mserver_hostname\u001b[49m\u001b[43m,\u001b[49m\n\u001b[32m    929\u001b[39m \u001b[43m    \u001b[49m\u001b[43mssl_context\u001b[49m\u001b[43m=\u001b[49m\u001b[43mcontext\u001b[49m\u001b[43m,\u001b[49m\n\u001b[32m    930\u001b[39m \u001b[43m    \u001b[49m\u001b[43mtls_in_tls\u001b[49m\u001b[43m=\u001b[49m\u001b[43mtls_in_tls\u001b[49m\u001b[43m,\u001b[49m\n\u001b[32m    931\u001b[39m \u001b[43m\u001b[49m\u001b[43m)\u001b[49m\n\u001b[32m    933\u001b[39m \u001b[38;5;28;01mtry\u001b[39;00m:\n",
      "\u001b[36mFile \u001b[39m\u001b[32mc:\\Users\\bye\\OneDrive - County of San Mateo\\Desktop\\hospital parity study\\.venv\\Lib\\site-packages\\urllib3\\util\\ssl_.py:460\u001b[39m, in \u001b[36mssl_wrap_socket\u001b[39m\u001b[34m(sock, keyfile, certfile, cert_reqs, ca_certs, server_hostname, ssl_version, ciphers, ssl_context, ca_cert_dir, key_password, ca_cert_data, tls_in_tls)\u001b[39m\n\u001b[32m    458\u001b[39m context.set_alpn_protocols(ALPN_PROTOCOLS)\n\u001b[32m--> \u001b[39m\u001b[32m460\u001b[39m ssl_sock = \u001b[43m_ssl_wrap_socket_impl\u001b[49m\u001b[43m(\u001b[49m\u001b[43msock\u001b[49m\u001b[43m,\u001b[49m\u001b[43m \u001b[49m\u001b[43mcontext\u001b[49m\u001b[43m,\u001b[49m\u001b[43m \u001b[49m\u001b[43mtls_in_tls\u001b[49m\u001b[43m,\u001b[49m\u001b[43m \u001b[49m\u001b[43mserver_hostname\u001b[49m\u001b[43m)\u001b[49m\n\u001b[32m    461\u001b[39m \u001b[38;5;28;01mreturn\u001b[39;00m ssl_sock\n",
      "\u001b[36mFile \u001b[39m\u001b[32mc:\\Users\\bye\\OneDrive - County of San Mateo\\Desktop\\hospital parity study\\.venv\\Lib\\site-packages\\urllib3\\util\\ssl_.py:504\u001b[39m, in \u001b[36m_ssl_wrap_socket_impl\u001b[39m\u001b[34m(sock, ssl_context, tls_in_tls, server_hostname)\u001b[39m\n\u001b[32m    502\u001b[39m     \u001b[38;5;28;01mreturn\u001b[39;00m SSLTransport(sock, ssl_context, server_hostname)\n\u001b[32m--> \u001b[39m\u001b[32m504\u001b[39m \u001b[38;5;28;01mreturn\u001b[39;00m \u001b[43mssl_context\u001b[49m\u001b[43m.\u001b[49m\u001b[43mwrap_socket\u001b[49m\u001b[43m(\u001b[49m\u001b[43msock\u001b[49m\u001b[43m,\u001b[49m\u001b[43m \u001b[49m\u001b[43mserver_hostname\u001b[49m\u001b[43m=\u001b[49m\u001b[43mserver_hostname\u001b[49m\u001b[43m)\u001b[49m\n",
      "\u001b[36mFile \u001b[39m\u001b[32mC:\\Program Files\\WindowsApps\\PythonSoftwareFoundation.Python.3.12_3.12.2544.0_x64__qbz5n2kfra8p0\\Lib\\ssl.py:455\u001b[39m, in \u001b[36mSSLContext.wrap_socket\u001b[39m\u001b[34m(self, sock, server_side, do_handshake_on_connect, suppress_ragged_eofs, server_hostname, session)\u001b[39m\n\u001b[32m    449\u001b[39m \u001b[38;5;28;01mdef\u001b[39;00m\u001b[38;5;250m \u001b[39m\u001b[34mwrap_socket\u001b[39m(\u001b[38;5;28mself\u001b[39m, sock, server_side=\u001b[38;5;28;01mFalse\u001b[39;00m,\n\u001b[32m    450\u001b[39m                 do_handshake_on_connect=\u001b[38;5;28;01mTrue\u001b[39;00m,\n\u001b[32m    451\u001b[39m                 suppress_ragged_eofs=\u001b[38;5;28;01mTrue\u001b[39;00m,\n\u001b[32m    452\u001b[39m                 server_hostname=\u001b[38;5;28;01mNone\u001b[39;00m, session=\u001b[38;5;28;01mNone\u001b[39;00m):\n\u001b[32m    453\u001b[39m     \u001b[38;5;66;03m# SSLSocket class handles server_hostname encoding before it calls\u001b[39;00m\n\u001b[32m    454\u001b[39m     \u001b[38;5;66;03m# ctx._wrap_socket()\u001b[39;00m\n\u001b[32m--> \u001b[39m\u001b[32m455\u001b[39m     \u001b[38;5;28;01mreturn\u001b[39;00m \u001b[38;5;28;43mself\u001b[39;49m\u001b[43m.\u001b[49m\u001b[43msslsocket_class\u001b[49m\u001b[43m.\u001b[49m\u001b[43m_create\u001b[49m\u001b[43m(\u001b[49m\n\u001b[32m    456\u001b[39m \u001b[43m        \u001b[49m\u001b[43msock\u001b[49m\u001b[43m=\u001b[49m\u001b[43msock\u001b[49m\u001b[43m,\u001b[49m\n\u001b[32m    457\u001b[39m \u001b[43m        \u001b[49m\u001b[43mserver_side\u001b[49m\u001b[43m=\u001b[49m\u001b[43mserver_side\u001b[49m\u001b[43m,\u001b[49m\n\u001b[32m    458\u001b[39m \u001b[43m        \u001b[49m\u001b[43mdo_handshake_on_connect\u001b[49m\u001b[43m=\u001b[49m\u001b[43mdo_handshake_on_connect\u001b[49m\u001b[43m,\u001b[49m\n\u001b[32m    459\u001b[39m \u001b[43m        \u001b[49m\u001b[43msuppress_ragged_eofs\u001b[49m\u001b[43m=\u001b[49m\u001b[43msuppress_ragged_eofs\u001b[49m\u001b[43m,\u001b[49m\n\u001b[32m    460\u001b[39m \u001b[43m        \u001b[49m\u001b[43mserver_hostname\u001b[49m\u001b[43m=\u001b[49m\u001b[43mserver_hostname\u001b[49m\u001b[43m,\u001b[49m\n\u001b[32m    461\u001b[39m \u001b[43m        \u001b[49m\u001b[43mcontext\u001b[49m\u001b[43m=\u001b[49m\u001b[38;5;28;43mself\u001b[39;49m\u001b[43m,\u001b[49m\n\u001b[32m    462\u001b[39m \u001b[43m        \u001b[49m\u001b[43msession\u001b[49m\u001b[43m=\u001b[49m\u001b[43msession\u001b[49m\n\u001b[32m    463\u001b[39m \u001b[43m    \u001b[49m\u001b[43m)\u001b[49m\n",
      "\u001b[36mFile \u001b[39m\u001b[32mC:\\Program Files\\WindowsApps\\PythonSoftwareFoundation.Python.3.12_3.12.2544.0_x64__qbz5n2kfra8p0\\Lib\\ssl.py:1041\u001b[39m, in \u001b[36mSSLSocket._create\u001b[39m\u001b[34m(cls, sock, server_side, do_handshake_on_connect, suppress_ragged_eofs, server_hostname, context, session)\u001b[39m\n\u001b[32m   1040\u001b[39m                 \u001b[38;5;28;01mraise\u001b[39;00m \u001b[38;5;167;01mValueError\u001b[39;00m(\u001b[33m\"\u001b[39m\u001b[33mdo_handshake_on_connect should not be specified for non-blocking sockets\u001b[39m\u001b[33m\"\u001b[39m)\n\u001b[32m-> \u001b[39m\u001b[32m1041\u001b[39m             \u001b[38;5;28;43mself\u001b[39;49m\u001b[43m.\u001b[49m\u001b[43mdo_handshake\u001b[49m\u001b[43m(\u001b[49m\u001b[43m)\u001b[49m\n\u001b[32m   1042\u001b[39m \u001b[38;5;28;01mexcept\u001b[39;00m:\n",
      "\u001b[36mFile \u001b[39m\u001b[32mC:\\Program Files\\WindowsApps\\PythonSoftwareFoundation.Python.3.12_3.12.2544.0_x64__qbz5n2kfra8p0\\Lib\\ssl.py:1319\u001b[39m, in \u001b[36mSSLSocket.do_handshake\u001b[39m\u001b[34m(self, block)\u001b[39m\n\u001b[32m   1318\u001b[39m         \u001b[38;5;28mself\u001b[39m.settimeout(\u001b[38;5;28;01mNone\u001b[39;00m)\n\u001b[32m-> \u001b[39m\u001b[32m1319\u001b[39m     \u001b[38;5;28;43mself\u001b[39;49m\u001b[43m.\u001b[49m\u001b[43m_sslobj\u001b[49m\u001b[43m.\u001b[49m\u001b[43mdo_handshake\u001b[49m\u001b[43m(\u001b[49m\u001b[43m)\u001b[49m\n\u001b[32m   1320\u001b[39m \u001b[38;5;28;01mfinally\u001b[39;00m:\n",
      "\u001b[31mSSLCertVerificationError\u001b[39m: [SSL: CERTIFICATE_VERIFY_FAILED] certificate verify failed: unable to get local issuer certificate (_ssl.c:1010)",
      "\nDuring handling of the above exception, another exception occurred:\n",
      "\u001b[31mSSLError\u001b[39m                                  Traceback (most recent call last)",
      "\u001b[36mFile \u001b[39m\u001b[32mc:\\Users\\bye\\OneDrive - County of San Mateo\\Desktop\\hospital parity study\\.venv\\Lib\\site-packages\\urllib3\\connectionpool.py:787\u001b[39m, in \u001b[36mHTTPConnectionPool.urlopen\u001b[39m\u001b[34m(self, method, url, body, headers, retries, redirect, assert_same_host, timeout, pool_timeout, release_conn, chunked, body_pos, preload_content, decode_content, **response_kw)\u001b[39m\n\u001b[32m    786\u001b[39m \u001b[38;5;66;03m# Make the request on the HTTPConnection object\u001b[39;00m\n\u001b[32m--> \u001b[39m\u001b[32m787\u001b[39m response = \u001b[38;5;28;43mself\u001b[39;49m\u001b[43m.\u001b[49m\u001b[43m_make_request\u001b[49m\u001b[43m(\u001b[49m\n\u001b[32m    788\u001b[39m \u001b[43m    \u001b[49m\u001b[43mconn\u001b[49m\u001b[43m,\u001b[49m\n\u001b[32m    789\u001b[39m \u001b[43m    \u001b[49m\u001b[43mmethod\u001b[49m\u001b[43m,\u001b[49m\n\u001b[32m    790\u001b[39m \u001b[43m    \u001b[49m\u001b[43murl\u001b[49m\u001b[43m,\u001b[49m\n\u001b[32m    791\u001b[39m \u001b[43m    \u001b[49m\u001b[43mtimeout\u001b[49m\u001b[43m=\u001b[49m\u001b[43mtimeout_obj\u001b[49m\u001b[43m,\u001b[49m\n\u001b[32m    792\u001b[39m \u001b[43m    \u001b[49m\u001b[43mbody\u001b[49m\u001b[43m=\u001b[49m\u001b[43mbody\u001b[49m\u001b[43m,\u001b[49m\n\u001b[32m    793\u001b[39m \u001b[43m    \u001b[49m\u001b[43mheaders\u001b[49m\u001b[43m=\u001b[49m\u001b[43mheaders\u001b[49m\u001b[43m,\u001b[49m\n\u001b[32m    794\u001b[39m \u001b[43m    \u001b[49m\u001b[43mchunked\u001b[49m\u001b[43m=\u001b[49m\u001b[43mchunked\u001b[49m\u001b[43m,\u001b[49m\n\u001b[32m    795\u001b[39m \u001b[43m    \u001b[49m\u001b[43mretries\u001b[49m\u001b[43m=\u001b[49m\u001b[43mretries\u001b[49m\u001b[43m,\u001b[49m\n\u001b[32m    796\u001b[39m \u001b[43m    \u001b[49m\u001b[43mresponse_conn\u001b[49m\u001b[43m=\u001b[49m\u001b[43mresponse_conn\u001b[49m\u001b[43m,\u001b[49m\n\u001b[32m    797\u001b[39m \u001b[43m    \u001b[49m\u001b[43mpreload_content\u001b[49m\u001b[43m=\u001b[49m\u001b[43mpreload_content\u001b[49m\u001b[43m,\u001b[49m\n\u001b[32m    798\u001b[39m \u001b[43m    \u001b[49m\u001b[43mdecode_content\u001b[49m\u001b[43m=\u001b[49m\u001b[43mdecode_content\u001b[49m\u001b[43m,\u001b[49m\n\u001b[32m    799\u001b[39m \u001b[43m    \u001b[49m\u001b[43m*\u001b[49m\u001b[43m*\u001b[49m\u001b[43mresponse_kw\u001b[49m\u001b[43m,\u001b[49m\n\u001b[32m    800\u001b[39m \u001b[43m\u001b[49m\u001b[43m)\u001b[49m\n\u001b[32m    802\u001b[39m \u001b[38;5;66;03m# Everything went great!\u001b[39;00m\n",
      "\u001b[36mFile \u001b[39m\u001b[32mc:\\Users\\bye\\OneDrive - County of San Mateo\\Desktop\\hospital parity study\\.venv\\Lib\\site-packages\\urllib3\\connectionpool.py:488\u001b[39m, in \u001b[36mHTTPConnectionPool._make_request\u001b[39m\u001b[34m(self, conn, method, url, body, headers, retries, timeout, chunked, response_conn, preload_content, decode_content, enforce_content_length)\u001b[39m\n\u001b[32m    487\u001b[39m         new_e = _wrap_proxy_error(new_e, conn.proxy.scheme)\n\u001b[32m--> \u001b[39m\u001b[32m488\u001b[39m     \u001b[38;5;28;01mraise\u001b[39;00m new_e\n\u001b[32m    490\u001b[39m \u001b[38;5;66;03m# conn.request() calls http.client.*.request, not the method in\u001b[39;00m\n\u001b[32m    491\u001b[39m \u001b[38;5;66;03m# urllib3.request. It also calls makefile (recv) on the socket.\u001b[39;00m\n",
      "\u001b[31mSSLError\u001b[39m: [SSL: CERTIFICATE_VERIFY_FAILED] certificate verify failed: unable to get local issuer certificate (_ssl.c:1010)",
      "\nThe above exception was the direct cause of the following exception:\n",
      "\u001b[31mMaxRetryError\u001b[39m                             Traceback (most recent call last)",
      "\u001b[36mFile \u001b[39m\u001b[32mc:\\Users\\bye\\OneDrive - County of San Mateo\\Desktop\\hospital parity study\\.venv\\Lib\\site-packages\\requests\\adapters.py:667\u001b[39m, in \u001b[36mHTTPAdapter.send\u001b[39m\u001b[34m(self, request, stream, timeout, verify, cert, proxies)\u001b[39m\n\u001b[32m    666\u001b[39m \u001b[38;5;28;01mtry\u001b[39;00m:\n\u001b[32m--> \u001b[39m\u001b[32m667\u001b[39m     resp = \u001b[43mconn\u001b[49m\u001b[43m.\u001b[49m\u001b[43murlopen\u001b[49m\u001b[43m(\u001b[49m\n\u001b[32m    668\u001b[39m \u001b[43m        \u001b[49m\u001b[43mmethod\u001b[49m\u001b[43m=\u001b[49m\u001b[43mrequest\u001b[49m\u001b[43m.\u001b[49m\u001b[43mmethod\u001b[49m\u001b[43m,\u001b[49m\n\u001b[32m    669\u001b[39m \u001b[43m        \u001b[49m\u001b[43murl\u001b[49m\u001b[43m=\u001b[49m\u001b[43murl\u001b[49m\u001b[43m,\u001b[49m\n\u001b[32m    670\u001b[39m \u001b[43m        \u001b[49m\u001b[43mbody\u001b[49m\u001b[43m=\u001b[49m\u001b[43mrequest\u001b[49m\u001b[43m.\u001b[49m\u001b[43mbody\u001b[49m\u001b[43m,\u001b[49m\n\u001b[32m    671\u001b[39m \u001b[43m        \u001b[49m\u001b[43mheaders\u001b[49m\u001b[43m=\u001b[49m\u001b[43mrequest\u001b[49m\u001b[43m.\u001b[49m\u001b[43mheaders\u001b[49m\u001b[43m,\u001b[49m\n\u001b[32m    672\u001b[39m \u001b[43m        \u001b[49m\u001b[43mredirect\u001b[49m\u001b[43m=\u001b[49m\u001b[38;5;28;43;01mFalse\u001b[39;49;00m\u001b[43m,\u001b[49m\n\u001b[32m    673\u001b[39m \u001b[43m        \u001b[49m\u001b[43massert_same_host\u001b[49m\u001b[43m=\u001b[49m\u001b[38;5;28;43;01mFalse\u001b[39;49;00m\u001b[43m,\u001b[49m\n\u001b[32m    674\u001b[39m \u001b[43m        \u001b[49m\u001b[43mpreload_content\u001b[49m\u001b[43m=\u001b[49m\u001b[38;5;28;43;01mFalse\u001b[39;49;00m\u001b[43m,\u001b[49m\n\u001b[32m    675\u001b[39m \u001b[43m        \u001b[49m\u001b[43mdecode_content\u001b[49m\u001b[43m=\u001b[49m\u001b[38;5;28;43;01mFalse\u001b[39;49;00m\u001b[43m,\u001b[49m\n\u001b[32m    676\u001b[39m \u001b[43m        \u001b[49m\u001b[43mretries\u001b[49m\u001b[43m=\u001b[49m\u001b[38;5;28;43mself\u001b[39;49m\u001b[43m.\u001b[49m\u001b[43mmax_retries\u001b[49m\u001b[43m,\u001b[49m\n\u001b[32m    677\u001b[39m \u001b[43m        \u001b[49m\u001b[43mtimeout\u001b[49m\u001b[43m=\u001b[49m\u001b[43mtimeout\u001b[49m\u001b[43m,\u001b[49m\n\u001b[32m    678\u001b[39m \u001b[43m        \u001b[49m\u001b[43mchunked\u001b[49m\u001b[43m=\u001b[49m\u001b[43mchunked\u001b[49m\u001b[43m,\u001b[49m\n\u001b[32m    679\u001b[39m \u001b[43m    \u001b[49m\u001b[43m)\u001b[49m\n\u001b[32m    681\u001b[39m \u001b[38;5;28;01mexcept\u001b[39;00m (ProtocolError, \u001b[38;5;167;01mOSError\u001b[39;00m) \u001b[38;5;28;01mas\u001b[39;00m err:\n",
      "\u001b[36mFile \u001b[39m\u001b[32mc:\\Users\\bye\\OneDrive - County of San Mateo\\Desktop\\hospital parity study\\.venv\\Lib\\site-packages\\urllib3\\connectionpool.py:841\u001b[39m, in \u001b[36mHTTPConnectionPool.urlopen\u001b[39m\u001b[34m(self, method, url, body, headers, retries, redirect, assert_same_host, timeout, pool_timeout, release_conn, chunked, body_pos, preload_content, decode_content, **response_kw)\u001b[39m\n\u001b[32m    839\u001b[39m     new_e = ProtocolError(\u001b[33m\"\u001b[39m\u001b[33mConnection aborted.\u001b[39m\u001b[33m\"\u001b[39m, new_e)\n\u001b[32m--> \u001b[39m\u001b[32m841\u001b[39m retries = \u001b[43mretries\u001b[49m\u001b[43m.\u001b[49m\u001b[43mincrement\u001b[49m\u001b[43m(\u001b[49m\n\u001b[32m    842\u001b[39m \u001b[43m    \u001b[49m\u001b[43mmethod\u001b[49m\u001b[43m,\u001b[49m\u001b[43m \u001b[49m\u001b[43murl\u001b[49m\u001b[43m,\u001b[49m\u001b[43m \u001b[49m\u001b[43merror\u001b[49m\u001b[43m=\u001b[49m\u001b[43mnew_e\u001b[49m\u001b[43m,\u001b[49m\u001b[43m \u001b[49m\u001b[43m_pool\u001b[49m\u001b[43m=\u001b[49m\u001b[38;5;28;43mself\u001b[39;49m\u001b[43m,\u001b[49m\u001b[43m \u001b[49m\u001b[43m_stacktrace\u001b[49m\u001b[43m=\u001b[49m\u001b[43msys\u001b[49m\u001b[43m.\u001b[49m\u001b[43mexc_info\u001b[49m\u001b[43m(\u001b[49m\u001b[43m)\u001b[49m\u001b[43m[\u001b[49m\u001b[32;43m2\u001b[39;49m\u001b[43m]\u001b[49m\n\u001b[32m    843\u001b[39m \u001b[43m\u001b[49m\u001b[43m)\u001b[49m\n\u001b[32m    844\u001b[39m retries.sleep()\n",
      "\u001b[36mFile \u001b[39m\u001b[32mc:\\Users\\bye\\OneDrive - County of San Mateo\\Desktop\\hospital parity study\\.venv\\Lib\\site-packages\\urllib3\\util\\retry.py:519\u001b[39m, in \u001b[36mRetry.increment\u001b[39m\u001b[34m(self, method, url, response, error, _pool, _stacktrace)\u001b[39m\n\u001b[32m    518\u001b[39m     reason = error \u001b[38;5;129;01mor\u001b[39;00m ResponseError(cause)\n\u001b[32m--> \u001b[39m\u001b[32m519\u001b[39m     \u001b[38;5;28;01mraise\u001b[39;00m MaxRetryError(_pool, url, reason) \u001b[38;5;28;01mfrom\u001b[39;00m\u001b[38;5;250m \u001b[39m\u001b[34;01mreason\u001b[39;00m  \u001b[38;5;66;03m# type: ignore[arg-type]\u001b[39;00m\n\u001b[32m    521\u001b[39m log.debug(\u001b[33m\"\u001b[39m\u001b[33mIncremented Retry for (url=\u001b[39m\u001b[33m'\u001b[39m\u001b[38;5;132;01m%s\u001b[39;00m\u001b[33m'\u001b[39m\u001b[33m): \u001b[39m\u001b[38;5;132;01m%r\u001b[39;00m\u001b[33m\"\u001b[39m, url, new_retry)\n",
      "\u001b[31mMaxRetryError\u001b[39m: HTTPSConnectionPool(host='a.basemaps.cartocdn.com', port=443): Max retries exceeded with url: /light_all/7/27/49.png (Caused by SSLError(SSLCertVerificationError(1, '[SSL: CERTIFICATE_VERIFY_FAILED] certificate verify failed: unable to get local issuer certificate (_ssl.c:1010)')))",
      "\nDuring handling of the above exception, another exception occurred:\n",
      "\u001b[31mSSLError\u001b[39m                                  Traceback (most recent call last)",
      "\u001b[36mCell\u001b[39m\u001b[36m \u001b[39m\u001b[32mIn[26]\u001b[39m\u001b[32m, line 30\u001b[39m\n\u001b[32m     27\u001b[39m fips_gdf.plot(ax=ax, marker=\u001b[33m'\u001b[39m\u001b[33mx\u001b[39m\u001b[33m'\u001b[39m, color=\u001b[33m'\u001b[39m\u001b[33mred\u001b[39m\u001b[33m'\u001b[39m, markersize=\u001b[32m5\u001b[39m, label=\u001b[33m'\u001b[39m\u001b[33mFIPS\u001b[39m\u001b[33m'\u001b[39m)\n\u001b[32m     29\u001b[39m \u001b[38;5;66;03m# Use OpenStreetMap basemap instead\u001b[39;00m\n\u001b[32m---> \u001b[39m\u001b[32m30\u001b[39m \u001b[43mctx\u001b[49m\u001b[43m.\u001b[49m\u001b[43madd_basemap\u001b[49m\u001b[43m(\u001b[49m\u001b[43max\u001b[49m\u001b[43m,\u001b[49m\u001b[43m \u001b[49m\u001b[43msource\u001b[49m\u001b[43m=\u001b[49m\u001b[43mctx\u001b[49m\u001b[43m.\u001b[49m\u001b[43mproviders\u001b[49m\u001b[43m.\u001b[49m\u001b[43mCartoDB\u001b[49m\u001b[43m.\u001b[49m\u001b[43mPositron\u001b[49m\u001b[43m)\u001b[49m\n\u001b[32m     32\u001b[39m \u001b[38;5;66;03m# Add title and legend\u001b[39;00m\n\u001b[32m     33\u001b[39m plt.title(\u001b[33m'\u001b[39m\u001b[33mHospitals and FIPS Locations with Basemap\u001b[39m\u001b[33m'\u001b[39m)\n",
      "\u001b[36mFile \u001b[39m\u001b[32mc:\\Users\\bye\\OneDrive - County of San Mateo\\Desktop\\hospital parity study\\.venv\\Lib\\site-packages\\contextily\\plotting.py:134\u001b[39m, in \u001b[36madd_basemap\u001b[39m\u001b[34m(ax, zoom, source, interpolation, attribution, attribution_size, reset_extent, crs, resampling, zoom_adjust, **extra_imshow_args)\u001b[39m\n\u001b[32m    130\u001b[39m     left, right, bottom, top = _reproj_bb(\n\u001b[32m    131\u001b[39m         left, right, bottom, top, crs, \u001b[33m\"\u001b[39m\u001b[33mepsg:3857\u001b[39m\u001b[33m\"\u001b[39m\n\u001b[32m    132\u001b[39m     )\n\u001b[32m    133\u001b[39m \u001b[38;5;66;03m# Download image\u001b[39;00m\n\u001b[32m--> \u001b[39m\u001b[32m134\u001b[39m image, extent = \u001b[43mbounds2img\u001b[49m\u001b[43m(\u001b[49m\n\u001b[32m    135\u001b[39m \u001b[43m    \u001b[49m\u001b[43mleft\u001b[49m\u001b[43m,\u001b[49m\n\u001b[32m    136\u001b[39m \u001b[43m    \u001b[49m\u001b[43mbottom\u001b[49m\u001b[43m,\u001b[49m\n\u001b[32m    137\u001b[39m \u001b[43m    \u001b[49m\u001b[43mright\u001b[49m\u001b[43m,\u001b[49m\n\u001b[32m    138\u001b[39m \u001b[43m    \u001b[49m\u001b[43mtop\u001b[49m\u001b[43m,\u001b[49m\n\u001b[32m    139\u001b[39m \u001b[43m    \u001b[49m\u001b[43mzoom\u001b[49m\u001b[43m=\u001b[49m\u001b[43mzoom\u001b[49m\u001b[43m,\u001b[49m\n\u001b[32m    140\u001b[39m \u001b[43m    \u001b[49m\u001b[43msource\u001b[49m\u001b[43m=\u001b[49m\u001b[43msource\u001b[49m\u001b[43m,\u001b[49m\n\u001b[32m    141\u001b[39m \u001b[43m    \u001b[49m\u001b[43mll\u001b[49m\u001b[43m=\u001b[49m\u001b[38;5;28;43;01mFalse\u001b[39;49;00m\u001b[43m,\u001b[49m\n\u001b[32m    142\u001b[39m \u001b[43m    \u001b[49m\u001b[43mzoom_adjust\u001b[49m\u001b[43m=\u001b[49m\u001b[43mzoom_adjust\u001b[49m\u001b[43m,\u001b[49m\n\u001b[32m    143\u001b[39m \u001b[43m\u001b[49m\u001b[43m)\u001b[49m\n\u001b[32m    144\u001b[39m \u001b[38;5;66;03m# Warping\u001b[39;00m\n\u001b[32m    145\u001b[39m \u001b[38;5;28;01mif\u001b[39;00m crs \u001b[38;5;129;01mis\u001b[39;00m \u001b[38;5;129;01mnot\u001b[39;00m \u001b[38;5;28;01mNone\u001b[39;00m:\n",
      "\u001b[36mFile \u001b[39m\u001b[32mc:\\Users\\bye\\OneDrive - County of San Mateo\\Desktop\\hospital parity study\\.venv\\Lib\\site-packages\\contextily\\tile.py:283\u001b[39m, in \u001b[36mbounds2img\u001b[39m\u001b[34m(w, s, e, n, zoom, source, ll, wait, max_retries, n_connections, use_cache, zoom_adjust)\u001b[39m\n\u001b[32m    279\u001b[39m preferred_backend = (\n\u001b[32m    280\u001b[39m     \u001b[33m\"\u001b[39m\u001b[33mthreads\u001b[39m\u001b[33m\"\u001b[39m \u001b[38;5;28;01mif\u001b[39;00m (n_connections == \u001b[32m1\u001b[39m \u001b[38;5;129;01mor\u001b[39;00m \u001b[38;5;129;01mnot\u001b[39;00m use_cache) \u001b[38;5;28;01melse\u001b[39;00m \u001b[33m\"\u001b[39m\u001b[33mprocesses\u001b[39m\u001b[33m\"\u001b[39m\n\u001b[32m    281\u001b[39m )\n\u001b[32m    282\u001b[39m fetch_tile_fn = memory.cache(_fetch_tile) \u001b[38;5;28;01mif\u001b[39;00m use_cache \u001b[38;5;28;01melse\u001b[39;00m _fetch_tile\n\u001b[32m--> \u001b[39m\u001b[32m283\u001b[39m arrays = \u001b[43mParallel\u001b[49m\u001b[43m(\u001b[49m\u001b[43mn_jobs\u001b[49m\u001b[43m=\u001b[49m\u001b[43mn_connections\u001b[49m\u001b[43m,\u001b[49m\u001b[43m \u001b[49m\u001b[43mprefer\u001b[49m\u001b[43m=\u001b[49m\u001b[43mpreferred_backend\u001b[49m\u001b[43m)\u001b[49m\u001b[43m(\u001b[49m\n\u001b[32m    284\u001b[39m \u001b[43m    \u001b[49m\u001b[43mdelayed\u001b[49m\u001b[43m(\u001b[49m\u001b[43mfetch_tile_fn\u001b[49m\u001b[43m)\u001b[49m\u001b[43m(\u001b[49m\u001b[43mtile_url\u001b[49m\u001b[43m,\u001b[49m\u001b[43m \u001b[49m\u001b[43mwait\u001b[49m\u001b[43m,\u001b[49m\u001b[43m \u001b[49m\u001b[43mmax_retries\u001b[49m\u001b[43m)\u001b[49m\u001b[43m \u001b[49m\u001b[38;5;28;43;01mfor\u001b[39;49;00m\u001b[43m \u001b[49m\u001b[43mtile_url\u001b[49m\u001b[43m \u001b[49m\u001b[38;5;129;43;01min\u001b[39;49;00m\u001b[43m \u001b[49m\u001b[43mtile_urls\u001b[49m\n\u001b[32m    285\u001b[39m \u001b[43m\u001b[49m\u001b[43m)\u001b[49m\n\u001b[32m    286\u001b[39m \u001b[38;5;66;03m# merge downloaded tiles\u001b[39;00m\n\u001b[32m    287\u001b[39m merged, extent = _merge_tiles(tiles, arrays)\n",
      "\u001b[36mFile \u001b[39m\u001b[32mc:\\Users\\bye\\OneDrive - County of San Mateo\\Desktop\\hospital parity study\\.venv\\Lib\\site-packages\\joblib\\parallel.py:1918\u001b[39m, in \u001b[36mParallel.__call__\u001b[39m\u001b[34m(self, iterable)\u001b[39m\n\u001b[32m   1916\u001b[39m     output = \u001b[38;5;28mself\u001b[39m._get_sequential_output(iterable)\n\u001b[32m   1917\u001b[39m     \u001b[38;5;28mnext\u001b[39m(output)\n\u001b[32m-> \u001b[39m\u001b[32m1918\u001b[39m     \u001b[38;5;28;01mreturn\u001b[39;00m output \u001b[38;5;28;01mif\u001b[39;00m \u001b[38;5;28mself\u001b[39m.return_generator \u001b[38;5;28;01melse\u001b[39;00m \u001b[38;5;28;43mlist\u001b[39;49m\u001b[43m(\u001b[49m\u001b[43moutput\u001b[49m\u001b[43m)\u001b[49m\n\u001b[32m   1920\u001b[39m \u001b[38;5;66;03m# Let's create an ID that uniquely identifies the current call. If the\u001b[39;00m\n\u001b[32m   1921\u001b[39m \u001b[38;5;66;03m# call is interrupted early and that the same instance is immediately\u001b[39;00m\n\u001b[32m   1922\u001b[39m \u001b[38;5;66;03m# re-used, this id will be used to prevent workers that were\u001b[39;00m\n\u001b[32m   1923\u001b[39m \u001b[38;5;66;03m# concurrently finalizing a task from the previous call to run the\u001b[39;00m\n\u001b[32m   1924\u001b[39m \u001b[38;5;66;03m# callback.\u001b[39;00m\n\u001b[32m   1925\u001b[39m \u001b[38;5;28;01mwith\u001b[39;00m \u001b[38;5;28mself\u001b[39m._lock:\n",
      "\u001b[36mFile \u001b[39m\u001b[32mc:\\Users\\bye\\OneDrive - County of San Mateo\\Desktop\\hospital parity study\\.venv\\Lib\\site-packages\\joblib\\parallel.py:1847\u001b[39m, in \u001b[36mParallel._get_sequential_output\u001b[39m\u001b[34m(self, iterable)\u001b[39m\n\u001b[32m   1845\u001b[39m \u001b[38;5;28mself\u001b[39m.n_dispatched_batches += \u001b[32m1\u001b[39m\n\u001b[32m   1846\u001b[39m \u001b[38;5;28mself\u001b[39m.n_dispatched_tasks += \u001b[32m1\u001b[39m\n\u001b[32m-> \u001b[39m\u001b[32m1847\u001b[39m res = \u001b[43mfunc\u001b[49m\u001b[43m(\u001b[49m\u001b[43m*\u001b[49m\u001b[43margs\u001b[49m\u001b[43m,\u001b[49m\u001b[43m \u001b[49m\u001b[43m*\u001b[49m\u001b[43m*\u001b[49m\u001b[43mkwargs\u001b[49m\u001b[43m)\u001b[49m\n\u001b[32m   1848\u001b[39m \u001b[38;5;28mself\u001b[39m.n_completed_tasks += \u001b[32m1\u001b[39m\n\u001b[32m   1849\u001b[39m \u001b[38;5;28mself\u001b[39m.print_progress()\n",
      "\u001b[36mFile \u001b[39m\u001b[32mc:\\Users\\bye\\OneDrive - County of San Mateo\\Desktop\\hospital parity study\\.venv\\Lib\\site-packages\\joblib\\memory.py:577\u001b[39m, in \u001b[36mMemorizedFunc.__call__\u001b[39m\u001b[34m(self, *args, **kwargs)\u001b[39m\n\u001b[32m    575\u001b[39m \u001b[38;5;28;01mdef\u001b[39;00m\u001b[38;5;250m \u001b[39m\u001b[34m__call__\u001b[39m(\u001b[38;5;28mself\u001b[39m, *args, **kwargs):\n\u001b[32m    576\u001b[39m     \u001b[38;5;66;03m# Return the output, without the metadata\u001b[39;00m\n\u001b[32m--> \u001b[39m\u001b[32m577\u001b[39m     \u001b[38;5;28;01mreturn\u001b[39;00m \u001b[38;5;28;43mself\u001b[39;49m\u001b[43m.\u001b[49m\u001b[43m_cached_call\u001b[49m\u001b[43m(\u001b[49m\u001b[43margs\u001b[49m\u001b[43m,\u001b[49m\u001b[43m \u001b[49m\u001b[43mkwargs\u001b[49m\u001b[43m,\u001b[49m\u001b[43m \u001b[49m\u001b[43mshelving\u001b[49m\u001b[43m=\u001b[49m\u001b[38;5;28;43;01mFalse\u001b[39;49;00m\u001b[43m)\u001b[49m[\u001b[32m0\u001b[39m]\n",
      "\u001b[36mFile \u001b[39m\u001b[32mc:\\Users\\bye\\OneDrive - County of San Mateo\\Desktop\\hospital parity study\\.venv\\Lib\\site-packages\\joblib\\memory.py:532\u001b[39m, in \u001b[36mMemorizedFunc._cached_call\u001b[39m\u001b[34m(self, args, kwargs, shelving)\u001b[39m\n\u001b[32m    526\u001b[39m     \u001b[38;5;28mself\u001b[39m.warn(\n\u001b[32m    527\u001b[39m         \u001b[33mf\u001b[39m\u001b[33m\"\u001b[39m\u001b[33mComputing func \u001b[39m\u001b[38;5;132;01m{\u001b[39;00mfunc_name\u001b[38;5;132;01m}\u001b[39;00m\u001b[33m, argument hash \u001b[39m\u001b[38;5;132;01m{\u001b[39;00margs_id\u001b[38;5;132;01m}\u001b[39;00m\u001b[33m \u001b[39m\u001b[33m\"\u001b[39m\n\u001b[32m    528\u001b[39m         \u001b[33mf\u001b[39m\u001b[33m\"\u001b[39m\u001b[33min location \u001b[39m\u001b[38;5;132;01m{\u001b[39;00mlocation\u001b[38;5;132;01m}\u001b[39;00m\u001b[33m\"\u001b[39m\n\u001b[32m    529\u001b[39m     )\n\u001b[32m    531\u001b[39m \u001b[38;5;66;03m# Returns the output but not the metadata\u001b[39;00m\n\u001b[32m--> \u001b[39m\u001b[32m532\u001b[39m \u001b[38;5;28;01mreturn\u001b[39;00m \u001b[38;5;28;43mself\u001b[39;49m\u001b[43m.\u001b[49m\u001b[43m_call\u001b[49m\u001b[43m(\u001b[49m\u001b[43mcall_id\u001b[49m\u001b[43m,\u001b[49m\u001b[43m \u001b[49m\u001b[43margs\u001b[49m\u001b[43m,\u001b[49m\u001b[43m \u001b[49m\u001b[43mkwargs\u001b[49m\u001b[43m,\u001b[49m\u001b[43m \u001b[49m\u001b[43mshelving\u001b[49m\u001b[43m)\u001b[49m\n",
      "\u001b[36mFile \u001b[39m\u001b[32mc:\\Users\\bye\\OneDrive - County of San Mateo\\Desktop\\hospital parity study\\.venv\\Lib\\site-packages\\joblib\\memory.py:771\u001b[39m, in \u001b[36mMemorizedFunc._call\u001b[39m\u001b[34m(self, call_id, args, kwargs, shelving)\u001b[39m\n\u001b[32m    769\u001b[39m \u001b[38;5;28mself\u001b[39m._before_call(args, kwargs)\n\u001b[32m    770\u001b[39m start_time = time.time()\n\u001b[32m--> \u001b[39m\u001b[32m771\u001b[39m output = \u001b[38;5;28;43mself\u001b[39;49m\u001b[43m.\u001b[49m\u001b[43mfunc\u001b[49m\u001b[43m(\u001b[49m\u001b[43m*\u001b[49m\u001b[43margs\u001b[49m\u001b[43m,\u001b[49m\u001b[43m \u001b[49m\u001b[43m*\u001b[49m\u001b[43m*\u001b[49m\u001b[43mkwargs\u001b[49m\u001b[43m)\u001b[49m\n\u001b[32m    772\u001b[39m \u001b[38;5;28;01mreturn\u001b[39;00m \u001b[38;5;28mself\u001b[39m._after_call(call_id, args, kwargs, shelving,\n\u001b[32m    773\u001b[39m                         output, start_time)\n",
      "\u001b[36mFile \u001b[39m\u001b[32mc:\\Users\\bye\\OneDrive - County of San Mateo\\Desktop\\hospital parity study\\.venv\\Lib\\site-packages\\contextily\\tile.py:313\u001b[39m, in \u001b[36m_fetch_tile\u001b[39m\u001b[34m(tile_url, wait, max_retries)\u001b[39m\n\u001b[32m    312\u001b[39m \u001b[38;5;28;01mdef\u001b[39;00m\u001b[38;5;250m \u001b[39m\u001b[34m_fetch_tile\u001b[39m(tile_url, wait, max_retries):\n\u001b[32m--> \u001b[39m\u001b[32m313\u001b[39m     array = \u001b[43m_retryer\u001b[49m\u001b[43m(\u001b[49m\u001b[43mtile_url\u001b[49m\u001b[43m,\u001b[49m\u001b[43m \u001b[49m\u001b[43mwait\u001b[49m\u001b[43m,\u001b[49m\u001b[43m \u001b[49m\u001b[43mmax_retries\u001b[49m\u001b[43m)\u001b[49m\n\u001b[32m    314\u001b[39m     \u001b[38;5;28;01mreturn\u001b[39;00m array\n",
      "\u001b[36mFile \u001b[39m\u001b[32mc:\\Users\\bye\\OneDrive - County of San Mateo\\Desktop\\hospital parity study\\.venv\\Lib\\site-packages\\contextily\\tile.py:452\u001b[39m, in \u001b[36m_retryer\u001b[39m\u001b[34m(tile_url, wait, max_retries)\u001b[39m\n\u001b[32m    432\u001b[39m \u001b[38;5;250m\u001b[39m\u001b[33;03m\"\"\"\u001b[39;00m\n\u001b[32m    433\u001b[39m \u001b[33;03mRetry a url many times in attempt to get a tile and read the image\u001b[39;00m\n\u001b[32m    434\u001b[39m \n\u001b[32m   (...)\u001b[39m\u001b[32m    449\u001b[39m \u001b[33;03marray of the tile\u001b[39;00m\n\u001b[32m    450\u001b[39m \u001b[33;03m\"\"\"\u001b[39;00m\n\u001b[32m    451\u001b[39m \u001b[38;5;28;01mtry\u001b[39;00m:\n\u001b[32m--> \u001b[39m\u001b[32m452\u001b[39m     request = \u001b[43mrequests\u001b[49m\u001b[43m.\u001b[49m\u001b[43mget\u001b[49m\u001b[43m(\u001b[49m\u001b[43mtile_url\u001b[49m\u001b[43m,\u001b[49m\u001b[43m \u001b[49m\u001b[43mheaders\u001b[49m\u001b[43m=\u001b[49m\u001b[43m{\u001b[49m\u001b[33;43m\"\u001b[39;49m\u001b[33;43muser-agent\u001b[39;49m\u001b[33;43m\"\u001b[39;49m\u001b[43m:\u001b[49m\u001b[43m \u001b[49m\u001b[43mUSER_AGENT\u001b[49m\u001b[43m}\u001b[49m\u001b[43m)\u001b[49m\n\u001b[32m    453\u001b[39m     request.raise_for_status()\n\u001b[32m    454\u001b[39m     \u001b[38;5;28;01mwith\u001b[39;00m io.BytesIO(request.content) \u001b[38;5;28;01mas\u001b[39;00m image_stream:\n",
      "\u001b[36mFile \u001b[39m\u001b[32mc:\\Users\\bye\\OneDrive - County of San Mateo\\Desktop\\hospital parity study\\.venv\\Lib\\site-packages\\requests\\api.py:73\u001b[39m, in \u001b[36mget\u001b[39m\u001b[34m(url, params, **kwargs)\u001b[39m\n\u001b[32m     62\u001b[39m \u001b[38;5;28;01mdef\u001b[39;00m\u001b[38;5;250m \u001b[39m\u001b[34mget\u001b[39m(url, params=\u001b[38;5;28;01mNone\u001b[39;00m, **kwargs):\n\u001b[32m     63\u001b[39m \u001b[38;5;250m    \u001b[39m\u001b[33mr\u001b[39m\u001b[33;03m\"\"\"Sends a GET request.\u001b[39;00m\n\u001b[32m     64\u001b[39m \n\u001b[32m     65\u001b[39m \u001b[33;03m    :param url: URL for the new :class:`Request` object.\u001b[39;00m\n\u001b[32m   (...)\u001b[39m\u001b[32m     70\u001b[39m \u001b[33;03m    :rtype: requests.Response\u001b[39;00m\n\u001b[32m     71\u001b[39m \u001b[33;03m    \"\"\"\u001b[39;00m\n\u001b[32m---> \u001b[39m\u001b[32m73\u001b[39m     \u001b[38;5;28;01mreturn\u001b[39;00m \u001b[43mrequest\u001b[49m\u001b[43m(\u001b[49m\u001b[33;43m\"\u001b[39;49m\u001b[33;43mget\u001b[39;49m\u001b[33;43m\"\u001b[39;49m\u001b[43m,\u001b[49m\u001b[43m \u001b[49m\u001b[43murl\u001b[49m\u001b[43m,\u001b[49m\u001b[43m \u001b[49m\u001b[43mparams\u001b[49m\u001b[43m=\u001b[49m\u001b[43mparams\u001b[49m\u001b[43m,\u001b[49m\u001b[43m \u001b[49m\u001b[43m*\u001b[49m\u001b[43m*\u001b[49m\u001b[43mkwargs\u001b[49m\u001b[43m)\u001b[49m\n",
      "\u001b[36mFile \u001b[39m\u001b[32mc:\\Users\\bye\\OneDrive - County of San Mateo\\Desktop\\hospital parity study\\.venv\\Lib\\site-packages\\requests\\api.py:59\u001b[39m, in \u001b[36mrequest\u001b[39m\u001b[34m(method, url, **kwargs)\u001b[39m\n\u001b[32m     55\u001b[39m \u001b[38;5;66;03m# By using the 'with' statement we are sure the session is closed, thus we\u001b[39;00m\n\u001b[32m     56\u001b[39m \u001b[38;5;66;03m# avoid leaving sockets open which can trigger a ResourceWarning in some\u001b[39;00m\n\u001b[32m     57\u001b[39m \u001b[38;5;66;03m# cases, and look like a memory leak in others.\u001b[39;00m\n\u001b[32m     58\u001b[39m \u001b[38;5;28;01mwith\u001b[39;00m sessions.Session() \u001b[38;5;28;01mas\u001b[39;00m session:\n\u001b[32m---> \u001b[39m\u001b[32m59\u001b[39m     \u001b[38;5;28;01mreturn\u001b[39;00m \u001b[43msession\u001b[49m\u001b[43m.\u001b[49m\u001b[43mrequest\u001b[49m\u001b[43m(\u001b[49m\u001b[43mmethod\u001b[49m\u001b[43m=\u001b[49m\u001b[43mmethod\u001b[49m\u001b[43m,\u001b[49m\u001b[43m \u001b[49m\u001b[43murl\u001b[49m\u001b[43m=\u001b[49m\u001b[43murl\u001b[49m\u001b[43m,\u001b[49m\u001b[43m \u001b[49m\u001b[43m*\u001b[49m\u001b[43m*\u001b[49m\u001b[43mkwargs\u001b[49m\u001b[43m)\u001b[49m\n",
      "\u001b[36mFile \u001b[39m\u001b[32mc:\\Users\\bye\\OneDrive - County of San Mateo\\Desktop\\hospital parity study\\.venv\\Lib\\site-packages\\requests\\sessions.py:589\u001b[39m, in \u001b[36mSession.request\u001b[39m\u001b[34m(self, method, url, params, data, headers, cookies, files, auth, timeout, allow_redirects, proxies, hooks, stream, verify, cert, json)\u001b[39m\n\u001b[32m    584\u001b[39m send_kwargs = {\n\u001b[32m    585\u001b[39m     \u001b[33m\"\u001b[39m\u001b[33mtimeout\u001b[39m\u001b[33m\"\u001b[39m: timeout,\n\u001b[32m    586\u001b[39m     \u001b[33m\"\u001b[39m\u001b[33mallow_redirects\u001b[39m\u001b[33m\"\u001b[39m: allow_redirects,\n\u001b[32m    587\u001b[39m }\n\u001b[32m    588\u001b[39m send_kwargs.update(settings)\n\u001b[32m--> \u001b[39m\u001b[32m589\u001b[39m resp = \u001b[38;5;28;43mself\u001b[39;49m\u001b[43m.\u001b[49m\u001b[43msend\u001b[49m\u001b[43m(\u001b[49m\u001b[43mprep\u001b[49m\u001b[43m,\u001b[49m\u001b[43m \u001b[49m\u001b[43m*\u001b[49m\u001b[43m*\u001b[49m\u001b[43msend_kwargs\u001b[49m\u001b[43m)\u001b[49m\n\u001b[32m    591\u001b[39m \u001b[38;5;28;01mreturn\u001b[39;00m resp\n",
      "\u001b[36mFile \u001b[39m\u001b[32mc:\\Users\\bye\\OneDrive - County of San Mateo\\Desktop\\hospital parity study\\.venv\\Lib\\site-packages\\requests\\sessions.py:703\u001b[39m, in \u001b[36mSession.send\u001b[39m\u001b[34m(self, request, **kwargs)\u001b[39m\n\u001b[32m    700\u001b[39m start = preferred_clock()\n\u001b[32m    702\u001b[39m \u001b[38;5;66;03m# Send the request\u001b[39;00m\n\u001b[32m--> \u001b[39m\u001b[32m703\u001b[39m r = \u001b[43madapter\u001b[49m\u001b[43m.\u001b[49m\u001b[43msend\u001b[49m\u001b[43m(\u001b[49m\u001b[43mrequest\u001b[49m\u001b[43m,\u001b[49m\u001b[43m \u001b[49m\u001b[43m*\u001b[49m\u001b[43m*\u001b[49m\u001b[43mkwargs\u001b[49m\u001b[43m)\u001b[49m\n\u001b[32m    705\u001b[39m \u001b[38;5;66;03m# Total elapsed time of the request (approximately)\u001b[39;00m\n\u001b[32m    706\u001b[39m elapsed = preferred_clock() - start\n",
      "\u001b[36mFile \u001b[39m\u001b[32mc:\\Users\\bye\\OneDrive - County of San Mateo\\Desktop\\hospital parity study\\.venv\\Lib\\site-packages\\requests\\adapters.py:698\u001b[39m, in \u001b[36mHTTPAdapter.send\u001b[39m\u001b[34m(self, request, stream, timeout, verify, cert, proxies)\u001b[39m\n\u001b[32m    694\u001b[39m         \u001b[38;5;28;01mraise\u001b[39;00m ProxyError(e, request=request)\n\u001b[32m    696\u001b[39m     \u001b[38;5;28;01mif\u001b[39;00m \u001b[38;5;28misinstance\u001b[39m(e.reason, _SSLError):\n\u001b[32m    697\u001b[39m         \u001b[38;5;66;03m# This branch is for urllib3 v1.22 and later.\u001b[39;00m\n\u001b[32m--> \u001b[39m\u001b[32m698\u001b[39m         \u001b[38;5;28;01mraise\u001b[39;00m SSLError(e, request=request)\n\u001b[32m    700\u001b[39m     \u001b[38;5;28;01mraise\u001b[39;00m \u001b[38;5;167;01mConnectionError\u001b[39;00m(e, request=request)\n\u001b[32m    702\u001b[39m \u001b[38;5;28;01mexcept\u001b[39;00m ClosedPoolError \u001b[38;5;28;01mas\u001b[39;00m e:\n",
      "\u001b[31mSSLError\u001b[39m: HTTPSConnectionPool(host='a.basemaps.cartocdn.com', port=443): Max retries exceeded with url: /light_all/7/27/49.png (Caused by SSLError(SSLCertVerificationError(1, '[SSL: CERTIFICATE_VERIFY_FAILED] certificate verify failed: unable to get local issuer certificate (_ssl.c:1010)')))"
     ]
    },
    {
     "data": {
      "image/png": "[encoded data removed]",
      "text/plain": [
       "<Figure size 1000x600 with 1 Axes>"
      ]
     },
     "metadata": {},
     "output_type": "display_data"
    }
   ],
   "source": [
    "#Adding a Basemap with contextily\n",
    "!pip install contextily\n",
    "import geopandas as gpd\n",
    "import matplotlib.pyplot as plt\n",
    "import contextily as ctx\n",
    "\n",
    "# Create GeoDataFrames\n",
    "hospitals_gdf = gpd.GeoDataFrame(hospitals_df, \n",
    "                                 geometry=gpd.points_from_xy(hospitals_df['LONG'], hospitals_df['LAT']), \n",
    "                                 crs=\"EPSG:4326\")\n",
    "\n",
    "fips_gdf = gpd.GeoDataFrame(geo_df, \n",
    "                            geometry=gpd.points_from_xy(geo_df['INTPTLONG'], geo_df['INTPTLAT']), \n",
    "                            crs=\"EPSG:4326\")\n",
    "\n",
    "# Convert to Web Mercator for basemap compatibility\n",
    "hospitals_gdf = hospitals_gdf.to_crs(epsg=3857)\n",
    "fips_gdf = fips_gdf.to_crs(epsg=3857)\n",
    "\n",
    "# Plot the points on a basemap\n",
    "fig, ax = plt.subplots(figsize=(10, 6))\n",
    "\n",
    "# Plot hospital locations in blue\n",
    "hospitals_gdf.plot(ax=ax, marker='o', color='blue', markersize=5, label='Hospitals')\n",
    "\n",
    "# Plot FIPS locations in red\n",
    "fips_gdf.plot(ax=ax, marker='x', color='red', markersize=5, label='FIPS')\n",
    "\n",
    "# Use OpenStreetMap basemap instead\n",
    "ctx.add_basemap(ax, source=ctx.providers.CartoDB.Positron)\n",
    "\n",
    "# Add title and legend\n",
    "plt.title('Hospitals and FIPS Locations with Basemap')\n",
    "plt.xlabel('Longitude')\n",
    "plt.ylabel('Latitude')\n",
    "plt.legend()\n",
    "\n",
    "plt.show()\n",
    "\n"
   ]
  },
  {
   "cell_type": "code",
   "execution_count": 12,
   "metadata": {},
   "outputs": [
    {
     "name": "stdout",
     "output_type": "stream",
     "text": [
      "Hospital county examples:\n",
      "['Pontotoc, OK', 'Tulsa, OK', 'Cleveland, OK', 'Pontotoc, OK', 'Oklahoma, OK']\n",
      "\n",
      "Geo county examples:\n",
      "['Adair County', 'Alfalfa County', 'Atoka County', 'Beaver County', 'Beckham County']\n",
      "\n",
      "Cleaned hospital counties:\n",
      "        CNTYNAME CLEAN_COUNTY\n",
      "0   Pontotoc, OK     PONTOTOC\n",
      "1      Tulsa, OK        TULSA\n",
      "2  Cleveland, OK    CLEVELAND\n",
      "3   Pontotoc, OK     PONTOTOC\n",
      "4   Oklahoma, OK     OKLAHOMA\n",
      "\n",
      "Cleaned geo counties:\n",
      "             NAME CLEAN_COUNTY\n",
      "0    Adair County        ADAIR\n",
      "1  Alfalfa County      ALFALFA\n",
      "2    Atoka County        ATOKA\n",
      "3   Beaver County       BEAVER\n",
      "4  Beckham County      BECKHAM\n",
      "\n",
      "After cleaning:\n",
      "Representative hospital data shape: (51, 12)\n",
      "Representative geographic data shape: (3, 11)\n"
     ]
    }
   ],
   "source": [
    "#change county name to the consistent standard\n",
    "print(\"Hospital county examples:\")\n",
    "print(hospitals_df['CNTYNAME'].head().tolist())\n",
    "\n",
    "print(\"\\nGeo county examples:\")\n",
    "print(geo_df['NAME'].head().tolist())\n",
    "\n",
    "# Clean hospital data - Extract just the county name from \"County, ST\" format\n",
    "def clean_hospital_county(county_string):\n",
    "    if pd.isna(county_string):\n",
    "        return None\n",
    "    \n",
    "    # Split by comma and take the first part (county name)\n",
    "    parts = county_string.split(',')\n",
    "    if len(parts) > 0:\n",
    "        return parts[0].strip().upper()\n",
    "    return county_string.upper()\n",
    "\n",
    "# Clean geo data - Remove \"County\" suffix\n",
    "def clean_geo_county(county_string):\n",
    "    if pd.isna(county_string):\n",
    "        return None\n",
    "    \n",
    "    # Remove \"County\" suffix if present\n",
    "    return county_string.replace(' County', '').strip().upper()\n",
    "\n",
    "# Apply cleaning to both datasets\n",
    "hospitals_df['CLEAN_COUNTY'] = hospitals_df['CNTYNAME'].apply(clean_hospital_county)\n",
    "geo_df['CLEAN_COUNTY'] = geo_df['NAME'].apply(clean_geo_county)\n",
    "# Print examples of cleaned names\n",
    "print(\"\\nCleaned hospital counties:\")\n",
    "print(hospitals_df[['CNTYNAME', 'CLEAN_COUNTY']].head())\n",
    "\n",
    "print(\"\\nCleaned geo counties:\")\n",
    "print(geo_df[['NAME', 'CLEAN_COUNTY']].head())\n",
    "\n",
    "# Now select representative counties using the cleaned names\n",
    "rep_counties = hospitals_df['CLEAN_COUNTY'].value_counts().head(3).index\n",
    "rep_hospitals_df = hospitals_df[hospitals_df['CLEAN_COUNTY'].isin(rep_counties)].copy()\n",
    "rep_geo_df = geo_df[geo_df['CLEAN_COUNTY'].isin(rep_counties)].copy()\n",
    "\n",
    "print(\"\\nAfter cleaning:\")\n",
    "print(\"Representative hospital data shape:\", rep_hospitals_df.shape)\n",
    "print(\"Representative geographic data shape:\", rep_geo_df.shape)\n"
   ]
  },
  {
   "cell_type": "code",
   "execution_count": 13,
   "metadata": {},
   "outputs": [
    {
     "name": "stdout",
     "output_type": "stream",
     "text": [
      "\n",
      "Representative hospital counties: ['TULSA' 'OKLAHOMA' 'COMANCHE']\n",
      "Representative geo counties: ['COMANCHE' 'OKLAHOMA' 'TULSA']\n"
     ]
    }
   ],
   "source": [
    "# Verify the matching worked by showing counties in each dataset\n",
    "print(\"\\nRepresentative hospital counties:\", rep_hospitals_df['CLEAN_COUNTY'].unique())\n",
    "print(\"Representative geo counties:\", rep_geo_df['CLEAN_COUNTY'].unique())\n"
   ]
  },
  {
   "cell_type": "code",
   "execution_count": 14,
   "metadata": {},
   "outputs": [
    {
     "name": "stdout",
     "output_type": "stream",
     "text": [
      "\n",
      "Representative hospital data shape: (51, 12)\n",
      "\n",
      "Representative geographic data shape: (3, 11)\n"
     ]
    }
   ],
   "source": [
    "# Create a representative subset for prototyping (e.g., 3 counties)\n",
    "rep_counties = hospitals_df['CLEAN_COUNTY'].value_counts().head(3).index\n",
    "rep_hospitals_df = hospitals_df[hospitals_df['CLEAN_COUNTY'].isin(rep_counties)].copy()\n",
    "rep_geo_df = geo_df[geo_df['CLEAN_COUNTY'].isin(rep_counties)].copy()\n",
    "\n",
    "print(\"\\nRepresentative hospital data shape:\", rep_hospitals_df.shape)\n",
    "print(\"\\nRepresentative geographic data shape:\", rep_geo_df.shape)"
   ]
  },
  {
   "cell_type": "code",
   "execution_count": 15,
   "metadata": {},
   "outputs": [
    {
     "name": "stdout",
     "output_type": "stream",
     "text": [
      "\n",
      "Missing values in hospital data:\n",
      "ID              0\n",
      "MNAME           0\n",
      "CNTYNAME        0\n",
      "MCRNUM          0\n",
      "MLOCADDR        0\n",
      "MLOCCITY        0\n",
      "CNTRL           0\n",
      "OBLEV           0\n",
      "FCOUNTY         0\n",
      "LAT             0\n",
      "LONG            0\n",
      "CLEAN_COUNTY    0\n",
      "dtype: int64\n",
      "\n",
      "Missing values in geographic data:\n",
      "USPS            0\n",
      "GEOID           0\n",
      "ANSICODE        0\n",
      "NAME            0\n",
      "ALAND           0\n",
      "AWATER          0\n",
      "ALAND_SQMI      0\n",
      "AWATER_SQMI     0\n",
      "INTPTLAT        0\n",
      "INTPTLONG       0\n",
      "CLEAN_COUNTY    0\n",
      "dtype: int64\n",
      "\n",
      "Cleaned hospital data shape: (143, 12)\n",
      "Cleaned geographic data shape: (77, 11)\n"
     ]
    }
   ],
   "source": [
    "# Step 2: Data Cleaning & Validation\n",
    "\n",
    "# Check for missing values\n",
    "print(\"\\nMissing values in hospital data:\")\n",
    "print(hospitals_df.isna().sum())\n",
    "\n",
    "print(\"\\nMissing values in geographic data:\")\n",
    "print(geo_df.isna().sum())\n",
    "\n",
    "# Clean hospital data\n",
    "def clean_hospital_data(df):\n",
    "    # Make a copy to avoid modifying original\n",
    "    cleaned = df.copy()\n",
    "    \n",
    "    # Convert coordinates to float if they're not already\n",
    "    cleaned['LAT'] = pd.to_numeric(cleaned['LAT'], errors='coerce')\n",
    "    cleaned['LONG'] = pd.to_numeric(cleaned['LONG'], errors='coerce')\n",
    "    \n",
    "    # Standardize county names (uppercase for consistency)\n",
    "    cleaned['CNTYNAME'] = cleaned['CNTYNAME'].str.upper()\n",
    "    \n",
    "    # Drop rows with missing critical data (coordinates)\n",
    "    critical_cols = ['LAT', 'LONG', 'MNAME']\n",
    "    cleaned = cleaned.dropna(subset=critical_cols)\n",
    "    \n",
    "    return cleaned\n",
    "\n",
    "# Clean geographic data\n",
    "def clean_geo_data(df):\n",
    "    # Make a copy to avoid modifying original\n",
    "    cleaned = df.copy()\n",
    "    \n",
    "    # Convert coordinates to float if they're not already\n",
    "    cleaned['INTPTLAT'] = pd.to_numeric(cleaned['INTPTLAT'], errors='coerce')\n",
    "    cleaned['INTPTLONG'] = pd.to_numeric(cleaned['INTPTLONG'], errors='coerce')\n",
    "    \n",
    "    # Standardize county names (uppercase for consistency)\n",
    "    cleaned['NAME'] = cleaned['NAME'].str.upper()\n",
    "    \n",
    "    # Drop rows with missing critical data (coordinates)\n",
    "    critical_cols = ['INTPTLAT', 'INTPTLONG', 'NAME']\n",
    "    cleaned = cleaned.dropna(subset=critical_cols)\n",
    "    \n",
    "    return cleaned\n",
    "\n",
    "# Apply cleaning to both full and representative datasets\n",
    "clean_hospitals_df = clean_hospital_data(hospitals_df)\n",
    "clean_geo_df = clean_geo_data(geo_df)\n",
    "clean_rep_hospitals_df = clean_hospital_data(rep_hospitals_df)\n",
    "clean_rep_geo_df = clean_geo_data(rep_geo_df)\n",
    "\n",
    "print(\"\\nCleaned hospital data shape:\", clean_hospitals_df.shape)\n",
    "print(\"Cleaned geographic data shape:\", clean_geo_df.shape)"
   ]
  },
  {
   "cell_type": "code",
   "execution_count": 16,
   "metadata": {},
   "outputs": [
    {
     "name": "stdout",
     "output_type": "stream",
     "text": [
      "\n",
      "Representative distances data shape:"
     ]
    },
    {
     "name": "stdout",
     "output_type": "stream",
     "text": [
      " (153, 8)\n",
      "            COUNTY  HOSPITAL_ID  \\\n",
      "0  COMANCHE COUNTY      6730005   \n",
      "1  COMANCHE COUNTY      6730012   \n",
      "2  COMANCHE COUNTY      6730013   \n",
      "3  COMANCHE COUNTY      6730014   \n",
      "4  COMANCHE COUNTY      6730019   \n",
      "\n",
      "                                    HOSPITAL_NAME  DISTANCE_KM  COUNTY_LAT  \\\n",
      "0            Southwestern Regional Medical Center   283.110022    34.66263   \n",
      "1               Curahealth Hospital Oklahoma City   126.282996    34.66263   \n",
      "2  Post Acute Medical Specialty Hospital of Tulsa   284.868278    34.66263   \n",
      "3                     Northwest Surgical Hospital   129.938537    34.66263   \n",
      "4         Select Specialty Hospital-Tulsa Midtown   281.023901    34.66263   \n",
      "\n",
      "   COUNTY_LONG  HOSPITAL_LAT  HOSPITAL_LONG  \n",
      "0   -98.476612       36.0515       -95.8633  \n",
      "1   -98.476612       35.4828       -97.5165  \n",
      "2   -98.476612       36.1147       -95.8905  \n",
      "3   -98.476612       35.5641       -97.5666  \n",
      "4   -98.476612       36.1473       -95.9698  \n",
      "\n",
      "Nearest hospital for each county in representative data:\n",
      "              COUNTY                      HOSPITAL_NAME  DISTANCE_KM\n",
      "32   COMANCHE COUNTY  Comanche County Memorial Hospital     6.994264\n",
      "72   OKLAHOMA COUNTY               Cedar Ridge Hospital     3.568306\n",
      "145     TULSA COUNTY            St. John Medical Center     2.599449\n"
     ]
    }
   ],
   "source": [
    "# Step 3: Data Transformation\n",
    "\n",
    "# Calculate distances between county center points and hospitals\n",
    "def calculate_distances(hospital_df, geo_df):\n",
    "    # Create a results dataframe to store distances\n",
    "    results = []\n",
    "    \n",
    "    # For each county center point\n",
    "    for _, county in geo_df.iterrows():\n",
    "        county_coords = (county['INTPTLAT'], county['INTPTLONG'])\n",
    "        county_name = county['NAME']\n",
    "        \n",
    "        # For each hospital\n",
    "        for _, hospital in hospital_df.iterrows():\n",
    "            hospital_coords = (hospital['LAT'], hospital['LONG'])\n",
    "            distance_km = geodesic(county_coords, hospital_coords).kilometers\n",
    "            \n",
    "            results.append({\n",
    "                'COUNTY': county_name,\n",
    "                'HOSPITAL_ID': hospital['ID'],\n",
    "                'HOSPITAL_NAME': hospital['MNAME'],\n",
    "                'DISTANCE_KM': distance_km,\n",
    "                'COUNTY_LAT': county['INTPTLAT'],\n",
    "                'COUNTY_LONG': county['INTPTLONG'],\n",
    "                'HOSPITAL_LAT': hospital['LAT'],\n",
    "                'HOSPITAL_LONG': hospital['LONG']\n",
    "            })\n",
    "    \n",
    "    return pd.DataFrame(results)\n",
    "\n",
    "# Calculate distances for the representative dataset first\n",
    "rep_distances_df = calculate_distances(clean_rep_hospitals_df, clean_rep_geo_df)\n",
    "print(\"\\nRepresentative distances data shape:\", rep_distances_df.shape)\n",
    "print(rep_distances_df.head())\n",
    "\n",
    "# Find nearest hospital for each county\n",
    "def find_nearest_hospitals(distances_df):\n",
    "    # Group by county and find the minimum distance\n",
    "    nearest = distances_df.loc[distances_df.groupby('COUNTY')['DISTANCE_KM'].idxmin()]\n",
    "    return nearest\n",
    "\n",
    "rep_nearest_df = find_nearest_hospitals(rep_distances_df)\n",
    "print(\"\\nNearest hospital for each county in representative data:\")\n",
    "print(rep_nearest_df[['COUNTY', 'HOSPITAL_NAME', 'DISTANCE_KM']])"
   ]
  },
  {
   "cell_type": "code",
   "execution_count": 17,
   "metadata": {},
   "outputs": [
    {
     "name": "stdout",
     "output_type": "stream",
     "text": [
      "Data successfully stored in database\n"
     ]
    }
   ],
   "source": [
    "# Step 4: Data Storage\n",
    "def setup_database(db_name=\"hospital_distance_analysis.db\"):\n",
    "    # Connect to SQLite database (creates if it doesn't exist)\n",
    "    conn = sqlite3.connect(db_name)\n",
    "    cursor = conn.cursor()\n",
    "    \n",
    "    # Create tables\n",
    "    cursor.execute('''\n",
    "    CREATE TABLE IF NOT EXISTS hospitals (\n",
    "        id INTEGER PRIMARY KEY,\n",
    "        name TEXT,\n",
    "        county TEXT,\n",
    "        address TEXT,\n",
    "        city TEXT,\n",
    "        control TEXT,\n",
    "        obstetrician_level TEXT,\n",
    "        latitude REAL,\n",
    "        longitude REAL\n",
    "    )\n",
    "    ''')\n",
    "    \n",
    "    cursor.execute('''\n",
    "    CREATE TABLE IF NOT EXISTS counties (\n",
    "        geoid TEXT PRIMARY KEY,\n",
    "        name TEXT,\n",
    "        land_area_sqmi REAL,\n",
    "        water_area_sqmi REAL,\n",
    "        latitude REAL,\n",
    "        longitude REAL\n",
    "    )\n",
    "    ''')\n",
    "    \n",
    "    cursor.execute('''\n",
    "    CREATE TABLE IF NOT EXISTS distances (\n",
    "        id INTEGER PRIMARY KEY AUTOINCREMENT,\n",
    "        county_name TEXT,\n",
    "        hospital_id INTEGER,\n",
    "        distance_km REAL,\n",
    "        FOREIGN KEY (hospital_id) REFERENCES hospitals(id),\n",
    "        FOREIGN KEY (county_name) REFERENCES counties(name)\n",
    "    )\n",
    "    ''')\n",
    "    \n",
    "    conn.commit()\n",
    "    return conn\n",
    "\n",
    "# Store data in database\n",
    "def store_data(conn, hospitals_df, geo_df, distances_df):\n",
    "    # Store hospitals\n",
    "    hospitals_subset = hospitals_df[['ID', 'MNAME', 'CNTYNAME', 'MLOCADDR', 'MLOCCITY', \n",
    "                                    'CNTRL', 'OBLEV', 'LAT', 'LONG']]\n",
    "    hospitals_subset.to_sql('hospitals', conn, if_exists='replace', index=False,\n",
    "                          dtype={'ID': 'INTEGER PRIMARY KEY'})\n",
    "    \n",
    "    # Store counties\n",
    "    counties_subset = geo_df[['GEOID', 'NAME', 'ALAND_SQMI', 'AWATER_SQMI', \n",
    "                             'INTPTLAT', 'INTPTLONG']]\n",
    "    counties_subset.to_sql('counties', conn, if_exists='replace', index=False,\n",
    "                         dtype={'GEOID': 'TEXT PRIMARY KEY'})\n",
    "    \n",
    "    # Store distances\n",
    "    distances_subset = distances_df[['COUNTY', 'HOSPITAL_ID', 'DISTANCE_KM']]\n",
    "    distances_subset.to_sql('distances', conn, if_exists='replace', index=False)\n",
    "    \n",
    "    print(\"Data successfully stored in database\")\n",
    "\n",
    "# Set up database and store representative data\n",
    "conn = setup_database()\n",
    "store_data(conn, clean_rep_hospitals_df, clean_rep_geo_df, rep_distances_df)\n"
   ]
  },
  {
   "cell_type": "code",
   "execution_count": 18,
   "metadata": {},
   "outputs": [
    {
     "ename": "DatabaseError",
     "evalue": "Execution failed on sql '\n    SELECT \n        d.county_name,\n        COUNT(DISTINCT d.hospital_id) as num_hospitals,\n        MIN(d.distance_km) as min_distance_km,\n        AVG(d.distance_km) as avg_distance_km,\n        MAX(d.distance_km) as max_distance_km\n    FROM distances d\n    GROUP BY d.county_name\n    ORDER BY avg_distance_km DESC\n    ': no such column: d.county_name",
     "output_type": "error",
     "traceback": [
      "\u001b[31m---------------------------------------------------------------------------\u001b[39m",
      "\u001b[31mOperationalError\u001b[39m                          Traceback (most recent call last)",
      "\u001b[36mFile \u001b[39m\u001b[32mc:\\Users\\bye\\OneDrive - County of San Mateo\\Desktop\\hospital parity study\\.venv\\Lib\\site-packages\\pandas\\io\\sql.py:2674\u001b[39m, in \u001b[36mSQLiteDatabase.execute\u001b[39m\u001b[34m(self, sql, params)\u001b[39m\n\u001b[32m   2673\u001b[39m \u001b[38;5;28;01mtry\u001b[39;00m:\n\u001b[32m-> \u001b[39m\u001b[32m2674\u001b[39m     \u001b[43mcur\u001b[49m\u001b[43m.\u001b[49m\u001b[43mexecute\u001b[49m\u001b[43m(\u001b[49m\u001b[43msql\u001b[49m\u001b[43m,\u001b[49m\u001b[43m \u001b[49m\u001b[43m*\u001b[49m\u001b[43margs\u001b[49m\u001b[43m)\u001b[49m\n\u001b[32m   2675\u001b[39m     \u001b[38;5;28;01mreturn\u001b[39;00m cur\n",
      "\u001b[31mOperationalError\u001b[39m: no such column: d.county_name",
      "\nThe above exception was the direct cause of the following exception:\n",
      "\u001b[31mDatabaseError\u001b[39m                             Traceback (most recent call last)",
      "\u001b[36mCell\u001b[39m\u001b[36m \u001b[39m\u001b[32mIn[18]\u001b[39m\u001b[32m, line 35\u001b[39m\n\u001b[32m     32\u001b[39m     \u001b[38;5;28;01mreturn\u001b[39;00m results\n\u001b[32m     34\u001b[39m \u001b[38;5;66;03m# Run analysis on representative data\u001b[39;00m\n\u001b[32m---> \u001b[39m\u001b[32m35\u001b[39m access_analysis = \u001b[43manalyze_hospital_access\u001b[49m\u001b[43m(\u001b[49m\u001b[43mconn\u001b[49m\u001b[43m)\u001b[49m\n\u001b[32m     37\u001b[39m \u001b[38;5;66;03m# Create a map visualization\u001b[39;00m\n\u001b[32m     38\u001b[39m \u001b[38;5;28;01mdef\u001b[39;00m\u001b[38;5;250m \u001b[39m\u001b[34mcreate_hospital_map\u001b[39m(hospitals_df, geo_df, nearest_df):\n\u001b[32m     39\u001b[39m     \u001b[38;5;66;03m# Create a map centered on Oklahoma\u001b[39;00m\n",
      "\u001b[36mCell\u001b[39m\u001b[36m \u001b[39m\u001b[32mIn[18]\u001b[39m\u001b[32m, line 16\u001b[39m, in \u001b[36manalyze_hospital_access\u001b[39m\u001b[34m(conn)\u001b[39m\n\u001b[32m      2\u001b[39m \u001b[38;5;28;01mdef\u001b[39;00m\u001b[38;5;250m \u001b[39m\u001b[34manalyze_hospital_access\u001b[39m(conn):\n\u001b[32m      3\u001b[39m     \u001b[38;5;66;03m# Query to find average distance to hospitals by county\u001b[39;00m\n\u001b[32m      4\u001b[39m     query = \u001b[33m'''\u001b[39m\n\u001b[32m      5\u001b[39m \u001b[33m    SELECT \u001b[39m\n\u001b[32m      6\u001b[39m \u001b[33m        d.county_name,\u001b[39m\n\u001b[32m   (...)\u001b[39m\u001b[32m     13\u001b[39m \u001b[33m    ORDER BY avg_distance_km DESC\u001b[39m\n\u001b[32m     14\u001b[39m \u001b[33m    \u001b[39m\u001b[33m'''\u001b[39m\n\u001b[32m---> \u001b[39m\u001b[32m16\u001b[39m     results = \u001b[43mpd\u001b[49m\u001b[43m.\u001b[49m\u001b[43mread_sql_query\u001b[49m\u001b[43m(\u001b[49m\u001b[43mquery\u001b[49m\u001b[43m,\u001b[49m\u001b[43m \u001b[49m\u001b[43mconn\u001b[49m\u001b[43m)\u001b[49m\n\u001b[32m     17\u001b[39m     \u001b[38;5;28mprint\u001b[39m(\u001b[33m\"\u001b[39m\u001b[38;5;130;01m\\n\u001b[39;00m\u001b[33mHospital Access Analysis by County:\u001b[39m\u001b[33m\"\u001b[39m)\n\u001b[32m     18\u001b[39m     \u001b[38;5;28mprint\u001b[39m(results)\n",
      "\u001b[36mFile \u001b[39m\u001b[32mc:\\Users\\bye\\OneDrive - County of San Mateo\\Desktop\\hospital parity study\\.venv\\Lib\\site-packages\\pandas\\io\\sql.py:526\u001b[39m, in \u001b[36mread_sql_query\u001b[39m\u001b[34m(sql, con, index_col, coerce_float, params, parse_dates, chunksize, dtype, dtype_backend)\u001b[39m\n\u001b[32m    523\u001b[39m \u001b[38;5;28;01massert\u001b[39;00m dtype_backend \u001b[38;5;129;01mis\u001b[39;00m \u001b[38;5;129;01mnot\u001b[39;00m lib.no_default\n\u001b[32m    525\u001b[39m \u001b[38;5;28;01mwith\u001b[39;00m pandasSQL_builder(con) \u001b[38;5;28;01mas\u001b[39;00m pandas_sql:\n\u001b[32m--> \u001b[39m\u001b[32m526\u001b[39m     \u001b[38;5;28;01mreturn\u001b[39;00m \u001b[43mpandas_sql\u001b[49m\u001b[43m.\u001b[49m\u001b[43mread_query\u001b[49m\u001b[43m(\u001b[49m\n\u001b[32m    527\u001b[39m \u001b[43m        \u001b[49m\u001b[43msql\u001b[49m\u001b[43m,\u001b[49m\n\u001b[32m    528\u001b[39m \u001b[43m        \u001b[49m\u001b[43mindex_col\u001b[49m\u001b[43m=\u001b[49m\u001b[43mindex_col\u001b[49m\u001b[43m,\u001b[49m\n\u001b[32m    529\u001b[39m \u001b[43m        \u001b[49m\u001b[43mparams\u001b[49m\u001b[43m=\u001b[49m\u001b[43mparams\u001b[49m\u001b[43m,\u001b[49m\n\u001b[32m    530\u001b[39m \u001b[43m        \u001b[49m\u001b[43mcoerce_float\u001b[49m\u001b[43m=\u001b[49m\u001b[43mcoerce_float\u001b[49m\u001b[43m,\u001b[49m\n\u001b[32m    531\u001b[39m \u001b[43m        \u001b[49m\u001b[43mparse_dates\u001b[49m\u001b[43m=\u001b[49m\u001b[43mparse_dates\u001b[49m\u001b[43m,\u001b[49m\n\u001b[32m    532\u001b[39m \u001b[43m        \u001b[49m\u001b[43mchunksize\u001b[49m\u001b[43m=\u001b[49m\u001b[43mchunksize\u001b[49m\u001b[43m,\u001b[49m\n\u001b[32m    533\u001b[39m \u001b[43m        \u001b[49m\u001b[43mdtype\u001b[49m\u001b[43m=\u001b[49m\u001b[43mdtype\u001b[49m\u001b[43m,\u001b[49m\n\u001b[32m    534\u001b[39m \u001b[43m        \u001b[49m\u001b[43mdtype_backend\u001b[49m\u001b[43m=\u001b[49m\u001b[43mdtype_backend\u001b[49m\u001b[43m,\u001b[49m\n\u001b[32m    535\u001b[39m \u001b[43m    \u001b[49m\u001b[43m)\u001b[49m\n",
      "\u001b[36mFile \u001b[39m\u001b[32mc:\\Users\\bye\\OneDrive - County of San Mateo\\Desktop\\hospital parity study\\.venv\\Lib\\site-packages\\pandas\\io\\sql.py:2738\u001b[39m, in \u001b[36mSQLiteDatabase.read_query\u001b[39m\u001b[34m(self, sql, index_col, coerce_float, parse_dates, params, chunksize, dtype, dtype_backend)\u001b[39m\n\u001b[32m   2727\u001b[39m \u001b[38;5;28;01mdef\u001b[39;00m\u001b[38;5;250m \u001b[39m\u001b[34mread_query\u001b[39m(\n\u001b[32m   2728\u001b[39m     \u001b[38;5;28mself\u001b[39m,\n\u001b[32m   2729\u001b[39m     sql,\n\u001b[32m   (...)\u001b[39m\u001b[32m   2736\u001b[39m     dtype_backend: DtypeBackend | Literal[\u001b[33m\"\u001b[39m\u001b[33mnumpy\u001b[39m\u001b[33m\"\u001b[39m] = \u001b[33m\"\u001b[39m\u001b[33mnumpy\u001b[39m\u001b[33m\"\u001b[39m,\n\u001b[32m   2737\u001b[39m ) -> DataFrame | Iterator[DataFrame]:\n\u001b[32m-> \u001b[39m\u001b[32m2738\u001b[39m     cursor = \u001b[38;5;28;43mself\u001b[39;49m\u001b[43m.\u001b[49m\u001b[43mexecute\u001b[49m\u001b[43m(\u001b[49m\u001b[43msql\u001b[49m\u001b[43m,\u001b[49m\u001b[43m \u001b[49m\u001b[43mparams\u001b[49m\u001b[43m)\u001b[49m\n\u001b[32m   2739\u001b[39m     columns = [col_desc[\u001b[32m0\u001b[39m] \u001b[38;5;28;01mfor\u001b[39;00m col_desc \u001b[38;5;129;01min\u001b[39;00m cursor.description]\n\u001b[32m   2741\u001b[39m     \u001b[38;5;28;01mif\u001b[39;00m chunksize \u001b[38;5;129;01mis\u001b[39;00m \u001b[38;5;129;01mnot\u001b[39;00m \u001b[38;5;28;01mNone\u001b[39;00m:\n",
      "\u001b[36mFile \u001b[39m\u001b[32mc:\\Users\\bye\\OneDrive - County of San Mateo\\Desktop\\hospital parity study\\.venv\\Lib\\site-packages\\pandas\\io\\sql.py:2686\u001b[39m, in \u001b[36mSQLiteDatabase.execute\u001b[39m\u001b[34m(self, sql, params)\u001b[39m\n\u001b[32m   2683\u001b[39m     \u001b[38;5;28;01mraise\u001b[39;00m ex \u001b[38;5;28;01mfrom\u001b[39;00m\u001b[38;5;250m \u001b[39m\u001b[34;01minner_exc\u001b[39;00m\n\u001b[32m   2685\u001b[39m ex = DatabaseError(\u001b[33mf\u001b[39m\u001b[33m\"\u001b[39m\u001b[33mExecution failed on sql \u001b[39m\u001b[33m'\u001b[39m\u001b[38;5;132;01m{\u001b[39;00msql\u001b[38;5;132;01m}\u001b[39;00m\u001b[33m'\u001b[39m\u001b[33m: \u001b[39m\u001b[38;5;132;01m{\u001b[39;00mexc\u001b[38;5;132;01m}\u001b[39;00m\u001b[33m\"\u001b[39m)\n\u001b[32m-> \u001b[39m\u001b[32m2686\u001b[39m \u001b[38;5;28;01mraise\u001b[39;00m ex \u001b[38;5;28;01mfrom\u001b[39;00m\u001b[38;5;250m \u001b[39m\u001b[34;01mexc\u001b[39;00m\n",
      "\u001b[31mDatabaseError\u001b[39m: Execution failed on sql '\n    SELECT \n        d.county_name,\n        COUNT(DISTINCT d.hospital_id) as num_hospitals,\n        MIN(d.distance_km) as min_distance_km,\n        AVG(d.distance_km) as avg_distance_km,\n        MAX(d.distance_km) as max_distance_km\n    FROM distances d\n    GROUP BY d.county_name\n    ORDER BY avg_distance_km DESC\n    ': no such column: d.county_name"
     ]
    }
   ],
   "source": [
    "# Step 5: Analysis & Visualization\n",
    "def analyze_hospital_access(conn):\n",
    "    # Query to find average distance to hospitals by county\n",
    "    query = '''\n",
    "    SELECT \n",
    "        d.county_name,\n",
    "        COUNT(DISTINCT d.hospital_id) as num_hospitals,\n",
    "        MIN(d.distance_km) as min_distance_km,\n",
    "        AVG(d.distance_km) as avg_distance_km,\n",
    "        MAX(d.distance_km) as max_distance_km\n",
    "    FROM distances d\n",
    "    GROUP BY d.county_name\n",
    "    ORDER BY avg_distance_km DESC\n",
    "    '''\n",
    "    \n",
    "    results = pd.read_sql_query(query, conn)\n",
    "    print(\"\\nHospital Access Analysis by County:\")\n",
    "    print(results)\n",
    "    \n",
    "    # Create visualizations\n",
    "    plt.figure(figsize=(12, 6))\n",
    "    \n",
    "    # Plot average distances\n",
    "    sns.barplot(x='county_name', y='avg_distance_km', data=results)\n",
    "    plt.title('Average Distance to Maternal Hospitals by County')\n",
    "    plt.xlabel('County')\n",
    "    plt.ylabel('Average Distance (km)')\n",
    "    plt.xticks(rotation=45)\n",
    "    plt.tight_layout()\n",
    "    plt.savefig('avg_hospital_distance_by_county.png')\n",
    "    \n",
    "    return results\n",
    "\n",
    "# Run analysis on representative data\n",
    "access_analysis = analyze_hospital_access(conn)\n",
    "\n",
    "# Create a map visualization\n",
    "def create_hospital_map(hospitals_df, geo_df, nearest_df):\n",
    "    # Create a map centered on Oklahoma\n",
    "    map_center = [hospitals_df['LAT'].mean(), hospitals_df['LONG'].mean()]\n",
    "    m = folium.Map(location=map_center, zoom_start=7)\n",
    "    \n",
    "    # Add hospitals as markers\n",
    "    for _, hospital in hospitals_df.iterrows():\n",
    "        folium.Marker(\n",
    "            location=[hospital['LAT'], hospital['LONG']],\n",
    "            popup=hospital['MNAME'],\n",
    "            icon=folium.Icon(color='red', icon='plus', prefix='fa')\n",
    "        ).add_to(m)\n",
    "    \n",
    "    # Add county centers\n",
    "    for _, county in geo_df.iterrows():\n",
    "        folium.Marker(\n",
    "            location=[county['INTPTLAT'], county['INTPTLONG']],\n",
    "            popup=county['NAME'],\n",
    "            icon=folium.Icon(color='blue', icon='info', prefix='fa')\n",
    "        ).add_to(m)\n",
    "    \n",
    "    # Add lines connecting counties to their nearest hospital\n",
    "    for _, row in nearest_df.iterrows():\n",
    "        folium.PolyLine(\n",
    "            locations=[[row['COUNTY_LAT'], row['COUNTY_LONG']], \n",
    "                      [row['HOSPITAL_LAT'], row['HOSPITAL_LONG']]],\n",
    "            color='green',\n",
    "            weight=2,\n",
    "            opacity=0.7,\n",
    "            popup=f\"{row['COUNTY']} to {row['HOSPITAL_NAME']}: {row['DISTANCE_KM']:.2f} km\"\n",
    "        ).add_to(m)\n",
    "    \n",
    "    m.save('hospital_distance_map.html')\n",
    "    print(\"Map saved as hospital_distance_map.html\")\n",
    "\n",
    "# Create map for representative data\n",
    "create_hospital_map(clean_rep_hospitals_df, clean_rep_geo_df, rep_nearest_df)\n",
    "\n",
    "# Close the database connection\n",
    "conn.close()"
   ]
  },
  {
   "cell_type": "code",
   "execution_count": null,
   "metadata": {},
   "outputs": [],
   "source": []
  }
 ],
 "metadata": {
  "kernelspec": {
   "display_name": ".venv",
   "language": "python",
   "name": "python3"
  },
  "language_info": {
   "codemirror_mode": {
    "name": "ipython",
    "version": 3
   },
   "file_extension": ".py",
   "mimetype": "text/x-python",
   "name": "python",
   "nbconvert_exporter": "python",
   "pygments_lexer": "ipython3",
   "version": "3.12.9"
  }
 },
 "nbformat": 4,
 "nbformat_minor": 2
}
